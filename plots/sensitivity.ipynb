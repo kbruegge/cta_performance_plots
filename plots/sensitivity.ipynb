{
 "cells": [
  {
   "cell_type": "code",
   "execution_count": 153,
   "metadata": {
    "ExecuteTime": {
     "end_time": "2018-07-27T15:01:07.026667Z",
     "start_time": "2018-07-27T15:01:03.493881Z"
    }
   },
   "outputs": [],
   "source": [
    "import astropy.units as u\n",
    "from spectrum import CosmicRaySpectrum, CrabSpectrum, CTAElectronSpectrum, MCSpectrum, make_energy_bins\n",
    "import fact.io\n",
    "\n",
    "from astropy.coordinates import Angle\n",
    "from astropy.coordinates.angle_utilities import angular_separation\n",
    "\n",
    "from scipy.ndimage import gaussian_filter\n",
    "from scipy.interpolate import interp1d\n",
    "\n",
    "import numpy as np\n",
    "import pandas as pd\n",
    "import matplotlib.pyplot as plt\n",
    "from fact.analysis import li_ma_significance\n",
    "from scipy.optimize import brute\n",
    "from scipy.optimize import minimize_scalar\n",
    "from tqdm import tqdm\n",
    "%matplotlib inline"
   ]
  },
  {
   "cell_type": "code",
   "execution_count": 154,
   "metadata": {
    "ExecuteTime": {
     "end_time": "2018-07-27T15:01:10.054216Z",
     "start_time": "2018-07-27T15:01:07.029291Z"
    }
   },
   "outputs": [
    {
     "name": "stdout",
     "output_type": "stream",
     "text": [
      "Index(['gamma_prediction_mean', 'gamma_energy_prediction_mean',\n",
      "       'az_prediction', 'alt_prediction', 'mc_alt', 'mc_az', 'mc_energy',\n",
      "       'num_triggered_telescopes', 'type', 'weight'],\n",
      "      dtype='object')\n",
      "6600927\n",
      "980458\n"
     ]
    }
   ],
   "source": [
    "n_bins = 20\n",
    "\n",
    "gamma_input = '../../cta_rta_analysis/build/gammas_test.hdf5'\n",
    "proton_input = '../../cta_rta_analysis/build/protons_test.hdf5'\n",
    "\n",
    "t_obs = 50 * u.h\n",
    "e_min, e_max = 0.02 * u.TeV, 200 * u.TeV\n",
    "bin_edges, bin_center, bin_width = make_energy_bins(e_min=e_min, e_max=e_max, bins=n_bins, centering='log')\n",
    "\n",
    "columns = ['gamma_prediction_mean', 'gamma_energy_prediction_mean', 'az_prediction', 'alt_prediction', 'mc_alt', 'mc_az', 'mc_energy', 'num_triggered_telescopes']\n",
    "\n",
    "gammas = fact.io.read_data(gamma_input, key='array_events', columns=columns)\n",
    "gammas = gammas.dropna()\n",
    "gammas['type'] = 0\n",
    "gamma_runs = fact.io.read_data(gamma_input, key='runs')\n",
    "mc_production_gamma = MCSpectrum.from_cta_runs(gamma_runs)\n",
    "\n",
    "protons = fact.io.read_data(proton_input, key='array_events', columns=columns)\n",
    "protons = protons.dropna()\n",
    "protons['type'] = 1\n",
    "proton_runs = fact.io.read_data(proton_input, key='runs')\n",
    "mc_production_proton = MCSpectrum.from_cta_runs(proton_runs)\n",
    "\n",
    "crab = CrabSpectrum()\n",
    "cosmic_proton = CosmicRaySpectrum()\n",
    "\n",
    "gammas['weight'] = mc_production_gamma.reweigh_to_other_spectrum(crab, gammas.mc_energy.values * u.TeV, t_assumed_obs=t_obs)\n",
    "protons['weight'] = mc_production_proton.reweigh_to_other_spectrum(cosmic_proton, protons.mc_energy.values * u.TeV, t_assumed_obs=t_obs)\n",
    "\n",
    "print(gammas.columns)\n",
    "\n",
    "print(len(protons))\n",
    "print(len(gammas))"
   ]
  },
  {
   "cell_type": "code",
   "execution_count": 155,
   "metadata": {
    "ExecuteTime": {
     "end_time": "2018-07-27T15:01:12.011534Z",
     "start_time": "2018-07-27T15:01:11.216384Z"
    }
   },
   "outputs": [],
   "source": [
    "def calculate_theta(df, source_alt=70 * u.deg, source_az=0 * u.deg):\n",
    "    source_az = Angle(source_az).wrap_at(180 * u.deg)\n",
    "    source_alt = Angle(source_alt)\n",
    "\n",
    "    az = Angle(df.az_prediction.values, unit=u.rad).wrap_at(180*u.deg)\n",
    "    alt = Angle(df.alt_prediction.values, unit=u.rad)\n",
    "\n",
    "    return angular_separation(source_az, source_alt, az, alt).to(u.deg).value\n",
    "\n",
    "gammas['theta'] = calculate_theta(gammas)\n",
    "protons['theta'] = calculate_theta(protons)"
   ]
  },
  {
   "cell_type": "code",
   "execution_count": 156,
   "metadata": {
    "ExecuteTime": {
     "end_time": "2018-07-27T15:21:47.547389Z",
     "start_time": "2018-07-27T15:21:47.154011Z"
    }
   },
   "outputs": [],
   "source": [
    "def count_events_in_region(df, theta2=0.03, prediction_threshold=0.5):\n",
    "    m = ((df.theta**2 <= theta2) & (df.gamma_prediction_mean >= prediction_threshold))\n",
    "    return df[m].weight.sum(), m.sum()\n",
    "\n",
    "\n",
    "def extrapolate_off_events(df, theta2=0.03, prediction_threshold=0.5, sigma=1):\n",
    "    if prediction_threshold == 1:\n",
    "        return 0\n",
    "    df = df.query('theta < 1.0')\n",
    "    \n",
    "    c_bins = np.linspace(0, 1, 30)\n",
    "    c_bin_center = (c_bins[0:-1] + c_bins[1:])/2\n",
    "    c_bin_width = np.diff(c_bins)\n",
    "    nodes = c_bin_center + c_bin_width\n",
    "\n",
    "    h, _ = np.histogram(df.gamma_prediction_mean, bins=c_bins, weights=df.weight)\n",
    "    h = gaussian_filter(h, sigma=sigma)\n",
    "    h = np.sum(h) - np.cumsum(h)\n",
    "    background = interp1d(nodes, h, kind=1, fill_value='extrapolate', bounds_error=False)\n",
    "    \n",
    "    \n",
    "    h, _ = np.histogram(df.gamma_prediction_mean, bins=c_bins)\n",
    "    h = gaussian_filter(h, sigma=sigma)\n",
    "    h = np.sum(h) - np.cumsum(h)\n",
    "    counts = interp1d(nodes, h, kind=1, fill_value='extrapolate', bounds_error=False)\n",
    "    \n",
    "    return background(prediction_threshold) * theta2, counts(prediction_threshold) * theta2 \n",
    "\n",
    "\n",
    "\n",
    "def count_off_events_in_region(df, theta2=0.03, prediction_threshold=0.5):\n",
    "    df = df.query('theta < 1.0')\n",
    "    m = df.gamma_prediction_mean >= prediction_threshold\n",
    "#     m = ((df.theta**2 <= theta2) & (df.gamma_prediction_mean >= prediction_threshold))\n",
    "    return df[m].weight.sum() * theta2, m.sum() * theta2\n",
    "\n",
    "\n",
    "def select_events_in_energy_range(signal, background, e_low, e_high, use_true_energy=False):\n",
    "    \n",
    "    column = 'mc_energy' if use_true_energy else 'gamma_energy_prediction_mean'\n",
    "    m = ((signal[column] > e_low ) & (signal[column] < e_high ))\n",
    "    s = signal[m]\n",
    "\n",
    "    m = ((background[column] > e_low ) & (background[column] < e_high ))\n",
    "    b = background[m]\n",
    "    return s, b\n",
    "\n",
    "def scaling_factor(n_signal, n_background, t_signal, t_background, alpha=1, N=200): \n",
    "    \n",
    "    right_bound = 100\n",
    "\n",
    "    def target(scaling_factor, n_signal, n_background, alpha=1, sigma=5):\n",
    "        n_on = n_background*alpha + n_signal * scaling_factor\n",
    "        n_off = n_background\n",
    "        \n",
    "        significance = li_ma_significance(n_on, n_off, alpha=alpha)\n",
    "        return (5 - significance)**2\n",
    "    \n",
    "#     print(t_background, n_background, '---------', t_signal, n_signal)\n",
    "    n_signal = np.random.poisson(t_signal, size=N) * n_signal / t_signal\n",
    "    n_background = np.random.poisson(t_background, size=N) * n_background / t_background\n",
    "    \n",
    "    \n",
    "    hs = []\n",
    "    for signal, background in zip(n_signal, n_background):\n",
    "        if background == 0:\n",
    "            hs.append(np.nan)\n",
    "        else:\n",
    "            result = minimize_scalar(target, args=(signal, background, alpha), bounds=(0, right_bound), method='bounded').x\n",
    "            if np.allclose(result, right_bound):\n",
    "                result = np.nan\n",
    "            hs.append(result)\n",
    "    return np.nanpercentile(np.array(hs), (50, 5, 95))\n",
    "\n",
    "\n",
    "# regions=slice(0.015, 0.02, 0.0025), thresholds=slice(0.8, 9, 0.05)\n",
    "#regions=slice(0.0025, 0.07, 0.0025), thresholds=slice(0.3, 1, 0.05)\n",
    "def find_best_cuts(signal, background, alpha, regions=slice(0.0025, 0.08, 0.01), thresholds=slice(0.4, 1, 0.05), method='simple'):\n",
    "    \n",
    "    def significance_target(cuts, signal, background, alpha):\n",
    "        theta2, p_cut = cuts\n",
    "        n_signal, t_signal = count_events_in_region(signal, theta2=theta2, prediction_threshold=p_cut)\n",
    "\n",
    "        if method == 'exact':\n",
    "            n_background, t_background = count_events_in_region(background, theta2=theta2/alpha, prediction_threshold=p_cut)\n",
    "                                \n",
    "            if t_background < 10:\n",
    "                print(f'{cuts} not enough background')\n",
    "                return 0\n",
    "            \n",
    "        elif method == 'simple':\n",
    "            n_background, t_background = count_off_events_in_region(background, theta2=theta2/alpha, prediction_threshold=p_cut)\n",
    "                    \n",
    "            if t_background/alpha < 10:\n",
    "                print(f'{cuts} not enough background')\n",
    "                return 0\n",
    "        \n",
    "        elif method == 'extrapolate':\n",
    "            n_background, t_background = extrapolate_off_events(background, theta2=theta2/alpha, prediction_threshold=p_cut)\n",
    "\n",
    "        \n",
    "#         if t_background/alpha < 1:\n",
    "#             print(f'{cuts} not enough background')\n",
    "#             return 0\n",
    "            \n",
    "        if t_signal <= t_background * alpha + 10:\n",
    "            print('counts not large enough')\n",
    "            return 0\n",
    "        \n",
    "        \n",
    "        if t_signal <= t_background * alpha + 10:\n",
    "            print('signal not large enough')\n",
    "            return 0\n",
    "        if n_signal*5 < n_background * 0.01:\n",
    "            print('sys problem')\n",
    "            return 0\n",
    "            \n",
    "                \n",
    "        n_on = n_signal + alpha*n_background\n",
    "        n_off = n_background\n",
    "        return -li_ma_significance(n_on, n_off, alpha=alpha)\n",
    "\n",
    "    result = brute(significance_target, ranges=[regions, thresholds], args=(signal, background, alpha), finish=None)\n",
    "    print(result)\n",
    "    return result\n",
    "\n",
    "\n",
    "def calc_relative_sensitivity(signal, background, bin_edges, alpha=1, use_true_energy=False, method='simple'):\n",
    "    relative_sensitivities = []\n",
    "    thresholds = []\n",
    "    thetas = []\n",
    "    for e_low, e_high in tqdm(zip(bin_edges[:-1], bin_edges[1:])):\n",
    "        s, b = select_events_in_energy_range(signal, background, e_low, e_high, use_true_energy=use_true_energy)\n",
    "        \n",
    "        theta2, cut = find_best_cuts(s, b, alpha=alpha, method=method)\n",
    "\n",
    "        n_signal, t_signal = count_events_in_region(s, theta2=theta2, prediction_threshold=cut)\n",
    "\n",
    "        if method == 'simple':\n",
    "            n_background, t_background = count_off_events_in_region(b, theta2=theta2/alpha, prediction_threshold=cut)\n",
    "#             extra = extrapolate_off_events(b, theta2=theta2/alpha, prediction_threshold=cut)\n",
    "#             print(f'Extrapolated: {extra}, Simple{(n_background, t_background)}')\n",
    "        elif method == 'exact':\n",
    "            n_background, t_background = count_events_in_region(b, theta2=theta2/alpha, prediction_threshold=cut)    \n",
    "        elif method == 'extrapolate':\n",
    "            n_background, t_background = extrapolate_off_events(b, theta2=theta2/alpha, prediction_threshold=cut)\n",
    "\n",
    "        print(t_background, t_signal)\n",
    "        rs = scaling_factor(n_signal, n_background, t_signal, t_background, alpha=alpha)\n",
    "        relative_sensitivities.append(rs)\n",
    "        thresholds.append(cut)\n",
    "        thetas.append(np.sqrt(theta2))\n",
    "        \n",
    "       \n",
    "        \n",
    "    m, l, h = np.array(relative_sensitivities).T\n",
    "    d = {'sensitivity': m, 'sensitivity_low': l, 'sensitivity_high': h, 'threshold':thresholds, 'theta':thetas}\n",
    "    return pd.DataFrame(d)\n",
    "\n"
   ]
  },
  {
   "cell_type": "code",
   "execution_count": 158,
   "metadata": {
    "ExecuteTime": {
     "end_time": "2018-07-27T15:21:47.694283Z",
     "start_time": "2018-07-27T15:21:47.549911Z"
    }
   },
   "outputs": [],
   "source": [
    "def plot_sensitivity(rs, crab, bin_edges, bin_center, color='blue', **kwargs):\n",
    "    sensitivity = rs.sensitivity.values * (crab.flux(bin_center) * bin_center**2).to(u.erg / (u.s * u.cm**2))\n",
    "    sensitivity_low = rs.sensitivity_low.values * (crab.flux(bin_center) * bin_center**2).to(u.erg / (u.s * u.cm**2))\n",
    "    sensitivity_high = rs.sensitivity_high.values * (crab.flux(bin_center) * bin_center**2).to(u.erg / (u.s * u.cm**2))\n",
    "    xerr = [np.abs(bin_edges[:-1] - bin_center).value, np.abs(bin_edges[1:] - bin_center).value]\n",
    "    yerr = [np.abs(sensitivity - sensitivity_low).value, np.abs(sensitivity - sensitivity_high).value]\n",
    "    plt.errorbar(bin_center.value, sensitivity.value, xerr=xerr, yerr=yerr, linestyle='', ecolor=color, **kwargs)\n",
    "\n",
    "    plt.xscale('log')\n",
    "    plt.yscale('log')\n",
    "    plt.plot(bin_edges, crab.flux(bin_edges) * bin_edges**2, '--', color='gray')\n",
    "    plt.ylim([1E-14, 1E-9])\n",
    "    \n",
    "    path = '../resources/ascii/CTA-Performance-prod3b-v1-South-20deg-50h-DiffSens.txt'\n",
    "    df = pd.read_csv(path, delimiter='\\t\\t', skiprows=10, names=['e_min', 'e_max', 'sensitivity'], engine='python')\n",
    "    bin_edges = sorted(list(set(df.e_min) | set(df.e_max))) * u.TeV\n",
    "    bin_center = np.sqrt(bin_edges[:-1] * bin_edges[1:])\n",
    "    sensitivity = df.sensitivity.values * u.erg/(u.cm**2 * u.s)\n",
    "\n",
    "    xerr = [np.abs(bin_edges[:-1] - bin_center).value, np.abs(bin_edges[1:] - bin_center).value]\n",
    "    plt.errorbar(bin_center.value, sensitivity.value, xerr=xerr, linestyle='', color='black',)\n",
    "\n",
    "    \n",
    "    path = '../resources/sensitivity_requirement_south_50.txt'\n",
    "    df = pd.read_csv(path, delim_whitespace=True, names=['log_energy', 'sensitivity'], index_col=False,  engine='python')\n",
    "    df['energy'] = 10**df.log_energy\n",
    "    plt.plot(df.energy, df.sensitivity, color='gray')\n",
    "    \n",
    "    plt.plot(df.energy, df.sensitivity * 3, color='lightgray', linestyle='--')\n",
    "    \n",
    "    plt.ylabel(r'$ E^2 \\cdot \\mathrm{photons} \\quad \\mathrm{erg} /( \\mathrm{s} \\quad  \\mathrm{cm}^2$ )  in ' + str(t_obs.to('h')) )\n",
    "    plt.xlabel(r'$E /  \\mathrm{TeV}$')\n"
   ]
  },
  {
   "cell_type": "code",
   "execution_count": 159,
   "metadata": {
    "ExecuteTime": {
     "end_time": "2018-07-27T15:23:39.270461Z",
     "start_time": "2018-07-27T15:22:40.364735Z"
    },
    "scrolled": true
   },
   "outputs": [
    {
     "name": "stderr",
     "output_type": "stream",
     "text": [
      "\n",
      "\n",
      "0it [00:00, ?it/s]\u001b[A\u001b[A"
     ]
    },
    {
     "name": "stdout",
     "output_type": "stream",
     "text": [
      "[0.0725 0.95  ]\n",
      "1825.731249999996 35276\n"
     ]
    },
    {
     "name": "stderr",
     "output_type": "stream",
     "text": [
      "\n",
      "\n",
      "1it [00:02,  2.21s/it]\u001b[A\u001b[A"
     ]
    },
    {
     "name": "stdout",
     "output_type": "stream",
     "text": [
      "[0.0525 0.95  ]\n",
      "802.4493749999981 38088\n"
     ]
    },
    {
     "name": "stderr",
     "output_type": "stream",
     "text": [
      "\n",
      "\n",
      "2it [00:04,  2.22s/it]\u001b[A\u001b[A"
     ]
    },
    {
     "name": "stdout",
     "output_type": "stream",
     "text": [
      "[0.0525 0.95  ]\n",
      "696.1106249999982 59849\n"
     ]
    },
    {
     "name": "stderr",
     "output_type": "stream",
     "text": [
      "\n",
      "\n",
      "3it [00:06,  2.19s/it]\u001b[A\u001b[A"
     ]
    },
    {
     "name": "stdout",
     "output_type": "stream",
     "text": [
      "[0.0425 0.95  ]\n",
      "462.1449999999987 61749\n"
     ]
    },
    {
     "name": "stderr",
     "output_type": "stream",
     "text": [
      "\n",
      "\n",
      "4it [00:09,  2.28s/it]\u001b[A\u001b[A"
     ]
    },
    {
     "name": "stdout",
     "output_type": "stream",
     "text": [
      "[0.0325 0.95  ]\n",
      "152.89624999999953 43106\n"
     ]
    },
    {
     "name": "stderr",
     "output_type": "stream",
     "text": [
      "\n",
      "\n",
      "5it [00:12,  2.40s/it]\u001b[A\u001b[A"
     ]
    },
    {
     "name": "stdout",
     "output_type": "stream",
     "text": [
      "[0.0325 0.9   ]\n",
      "138.8725 50484\n"
     ]
    },
    {
     "name": "stderr",
     "output_type": "stream",
     "text": [
      "\n",
      "\n",
      "6it [00:14,  2.46s/it]\u001b[A\u001b[A"
     ]
    },
    {
     "name": "stdout",
     "output_type": "stream",
     "text": [
      "[0.0325 0.9   ]\n",
      "171.76250000000002 50980\n"
     ]
    },
    {
     "name": "stderr",
     "output_type": "stream",
     "text": [
      "\n",
      "\n",
      "7it [00:17,  2.46s/it]\u001b[A\u001b[A"
     ]
    },
    {
     "name": "stdout",
     "output_type": "stream",
     "text": [
      "[0.0225 0.85  ]\n",
      "175.82624999999987 45558\n"
     ]
    },
    {
     "name": "stderr",
     "output_type": "stream",
     "text": [
      "\n",
      "\n",
      "8it [00:19,  2.43s/it]\u001b[A\u001b[A"
     ]
    },
    {
     "name": "stdout",
     "output_type": "stream",
     "text": [
      "[0.0225 0.9   ]\n",
      "109.93499999999999 36128\n"
     ]
    },
    {
     "name": "stderr",
     "output_type": "stream",
     "text": [
      "\n",
      "\n",
      "9it [00:21,  2.39s/it]\u001b[A\u001b[A"
     ]
    },
    {
     "name": "stdout",
     "output_type": "stream",
     "text": [
      "[0.0125 0.85  ]\n",
      "50.46874999999995 27457\n"
     ]
    },
    {
     "name": "stderr",
     "output_type": "stream",
     "text": [
      "\n",
      "\n",
      "10it [00:23,  2.33s/it]\u001b[A\u001b[A"
     ]
    },
    {
     "name": "stdout",
     "output_type": "stream",
     "text": [
      "[0.0125 0.85  ]\n",
      "22.368749999999974 21544\n"
     ]
    },
    {
     "name": "stderr",
     "output_type": "stream",
     "text": [
      "\n",
      "\n",
      "11it [00:24,  2.27s/it]\u001b[A\u001b[A"
     ]
    },
    {
     "name": "stdout",
     "output_type": "stream",
     "text": [
      "[0.0125 0.8   ]\n",
      "11.9375 15327\n"
     ]
    },
    {
     "name": "stderr",
     "output_type": "stream",
     "text": [
      "\n",
      "\n",
      "12it [00:26,  2.19s/it]\u001b[A\u001b[A"
     ]
    },
    {
     "name": "stdout",
     "output_type": "stream",
     "text": [
      "[0.0125 0.75  ]\n",
      "9.546874999999996 10973\n"
     ]
    },
    {
     "name": "stderr",
     "output_type": "stream",
     "text": [
      "\n",
      "\n",
      "13it [00:27,  2.12s/it]\u001b[A\u001b[A"
     ]
    },
    {
     "name": "stdout",
     "output_type": "stream",
     "text": [
      "[0.0125 0.75  ]\n",
      "4.359374999999998 7782\n"
     ]
    },
    {
     "name": "stderr",
     "output_type": "stream",
     "text": [
      "\n",
      "\n",
      "14it [00:28,  2.05s/it]\u001b[A\u001b[A"
     ]
    },
    {
     "name": "stdout",
     "output_type": "stream",
     "text": [
      "[0.0125 0.75  ]\n",
      "2.4062499999999987 5496\n"
     ]
    },
    {
     "name": "stderr",
     "output_type": "stream",
     "text": [
      "\n",
      "\n",
      "15it [00:29,  1.98s/it]\u001b[A\u001b[A"
     ]
    },
    {
     "name": "stdout",
     "output_type": "stream",
     "text": [
      "[0.0125 0.75  ]\n",
      "1.1718749999999991 3279\n"
     ]
    },
    {
     "name": "stderr",
     "output_type": "stream",
     "text": [
      "\n",
      "\n",
      "16it [00:30,  1.90s/it]\u001b[A\u001b[A"
     ]
    },
    {
     "name": "stdout",
     "output_type": "stream",
     "text": [
      "[0.0125 0.7   ]\n",
      "1.2625000000000002 2254\n"
     ]
    },
    {
     "name": "stderr",
     "output_type": "stream",
     "text": [
      "\n",
      "\n",
      "17it [00:31,  1.84s/it]\u001b[A\u001b[A\n",
      "\n",
      "18it [00:31,  1.77s/it]\u001b[A\u001b[A"
     ]
    },
    {
     "name": "stdout",
     "output_type": "stream",
     "text": [
      "[0.0125 0.7   ]\n",
      "0.35 1368\n"
     ]
    },
    {
     "name": "stderr",
     "output_type": "stream",
     "text": [
      "\n",
      "\n",
      "19it [00:32,  1.71s/it]\u001b[A\u001b[A"
     ]
    },
    {
     "name": "stdout",
     "output_type": "stream",
     "text": [
      "[0.0125 0.65  ]\n",
      "0.30937500000000007 1382\n",
      "counts not large enough\n",
      "counts not large enough\n",
      "counts not large enough\n",
      "counts not large enough\n",
      "counts not large enough\n",
      "counts not large enough\n",
      "counts not large enough\n"
     ]
    },
    {
     "name": "stderr",
     "output_type": "stream",
     "text": [
      "/opt/anaconda/lib/python3.6/site-packages/ipykernel_launcher.py:61: RuntimeWarning: invalid value encountered in true_divide\n",
      "/opt/anaconda/lib/python3.6/site-packages/numpy/lib/function_base.py:4033: RuntimeWarning: All-NaN slice encountered\n",
      "  r = func(a, **kwargs)\n",
      "\n",
      "\n"
     ]
    },
    {
     "name": "stdout",
     "output_type": "stream",
     "text": [
      "counts not large enough\n",
      "[0.0125 0.65  ]\n",
      "0.0 177\n"
     ]
    },
    {
     "name": "stderr",
     "output_type": "stream",
     "text": [
      "20it [00:33,  1.68s/it]\u001b[A\u001b[A\n",
      "\n",
      "\u001b[A\u001b[A\n",
      "\n",
      "0it [00:00, ?it/s]\u001b[A\u001b[A"
     ]
    },
    {
     "name": "stdout",
     "output_type": "stream",
     "text": [
      "[0.0525 0.95  ]\n",
      "53.79937499999987 1087\n"
     ]
    },
    {
     "name": "stderr",
     "output_type": "stream",
     "text": [
      "\n",
      "\n",
      "1it [00:00,  1.39it/s]\u001b[A\u001b[A"
     ]
    },
    {
     "name": "stdout",
     "output_type": "stream",
     "text": [
      "[0.0425 0.95  ]\n",
      "162.66874999999962 12162\n"
     ]
    },
    {
     "name": "stderr",
     "output_type": "stream",
     "text": [
      "\n",
      "\n",
      "2it [00:01,  1.20it/s]\u001b[A\u001b[A"
     ]
    },
    {
     "name": "stdout",
     "output_type": "stream",
     "text": [
      "[0.0425 0.95  ]\n",
      "226.0149999999994 30722\n"
     ]
    },
    {
     "name": "stderr",
     "output_type": "stream",
     "text": [
      "\n",
      "\n",
      "3it [00:02,  1.07it/s]\u001b[A\u001b[A"
     ]
    },
    {
     "name": "stdout",
     "output_type": "stream",
     "text": [
      "[0.0325 0.95  ]\n",
      "162.55687499999954 34964\n"
     ]
    },
    {
     "name": "stderr",
     "output_type": "stream",
     "text": [
      "\n",
      "\n",
      "4it [00:04,  1.02s/it]\u001b[A\u001b[A"
     ]
    },
    {
     "name": "stdout",
     "output_type": "stream",
     "text": [
      "[0.0325 0.95  ]\n",
      "63.8706249999998 27281\n"
     ]
    },
    {
     "name": "stderr",
     "output_type": "stream",
     "text": [
      "\n",
      "\n",
      "5it [00:05,  1.08s/it]\u001b[A\u001b[A"
     ]
    },
    {
     "name": "stdout",
     "output_type": "stream",
     "text": [
      "[0.0225 0.9   ]\n",
      "22.612499999999997 28742\n"
     ]
    },
    {
     "name": "stderr",
     "output_type": "stream",
     "text": [
      "\n",
      "\n",
      "6it [00:06,  1.13s/it]\u001b[A\u001b[A"
     ]
    },
    {
     "name": "stdout",
     "output_type": "stream",
     "text": [
      "[0.0225 0.85  ]\n",
      "17.741249999999965 28506\n"
     ]
    },
    {
     "name": "stderr",
     "output_type": "stream",
     "text": [
      "\n",
      "\n",
      "7it [00:08,  1.20s/it]\u001b[A\u001b[A"
     ]
    },
    {
     "name": "stdout",
     "output_type": "stream",
     "text": [
      "[0.0225 0.85  ]\n",
      "10.018124999999982 23405\n"
     ]
    },
    {
     "name": "stderr",
     "output_type": "stream",
     "text": [
      "\n",
      "\n",
      "8it [00:09,  1.20s/it]\u001b[A\u001b[A"
     ]
    },
    {
     "name": "stdout",
     "output_type": "stream",
     "text": [
      "[0.0225 0.85  ]\n",
      "6.103124999999986 18953\n"
     ]
    },
    {
     "name": "stderr",
     "output_type": "stream",
     "text": [
      "\n",
      "\n",
      "9it [00:10,  1.21s/it]\u001b[A\u001b[A"
     ]
    },
    {
     "name": "stdout",
     "output_type": "stream",
     "text": [
      "[0.0225 0.85  ]\n",
      "4.454999999999991 15937\n"
     ]
    },
    {
     "name": "stderr",
     "output_type": "stream",
     "text": [
      "\n",
      "\n",
      "10it [00:12,  1.21s/it]\u001b[A\u001b[A"
     ]
    },
    {
     "name": "stdout",
     "output_type": "stream",
     "text": [
      "[0.0125 0.8   ]\n",
      "4.68125 15294\n"
     ]
    },
    {
     "name": "stderr",
     "output_type": "stream",
     "text": [
      "\n",
      "\n",
      "11it [00:13,  1.20s/it]\u001b[A\u001b[A\n",
      "\n"
     ]
    },
    {
     "name": "stdout",
     "output_type": "stream",
     "text": [
      "[0.0125 0.8   ]\n",
      "3.4625000000000004 11471\n"
     ]
    },
    {
     "name": "stderr",
     "output_type": "stream",
     "text": [
      "12it [00:14,  1.18s/it]\u001b[A\u001b[A"
     ]
    },
    {
     "name": "stdout",
     "output_type": "stream",
     "text": [
      "[0.0125 0.8   ]\n",
      "2.4375 8197\n"
     ]
    },
    {
     "name": "stderr",
     "output_type": "stream",
     "text": [
      "\n",
      "\n",
      "13it [00:15,  1.16s/it]\u001b[A\u001b[A\n",
      "\n"
     ]
    },
    {
     "name": "stdout",
     "output_type": "stream",
     "text": [
      "[0.0125 0.75  ]\n",
      "2.8281249999999987 6383\n"
     ]
    },
    {
     "name": "stderr",
     "output_type": "stream",
     "text": [
      "14it [00:16,  1.15s/it]\u001b[A\u001b[A"
     ]
    },
    {
     "name": "stdout",
     "output_type": "stream",
     "text": [
      "[0.0125 0.8   ]\n",
      "0.6937500000000001 4560\n"
     ]
    },
    {
     "name": "stderr",
     "output_type": "stream",
     "text": [
      "\n",
      "\n",
      "15it [00:16,  1.13s/it]\u001b[A\u001b[A\n",
      "\n",
      "16it [00:17,  1.11s/it]\u001b[A\u001b[A"
     ]
    },
    {
     "name": "stdout",
     "output_type": "stream",
     "text": [
      "[0.0125 0.8   ]\n",
      "0.2 2772\n"
     ]
    },
    {
     "name": "stderr",
     "output_type": "stream",
     "text": [
      "\n",
      "\n",
      "17it [00:18,  1.09s/it]\u001b[A\u001b[A"
     ]
    },
    {
     "name": "stdout",
     "output_type": "stream",
     "text": [
      "[0.0125 0.75  ]\n",
      "0.5156249999999998 1982\n"
     ]
    },
    {
     "name": "stderr",
     "output_type": "stream",
     "text": [
      "\n",
      "\n",
      "18it [00:19,  1.07s/it]\u001b[A\u001b[A"
     ]
    },
    {
     "name": "stdout",
     "output_type": "stream",
     "text": [
      "[0.0125 0.75  ]\n",
      "0.1093749999999999 1211\n"
     ]
    },
    {
     "name": "stderr",
     "output_type": "stream",
     "text": [
      "\n",
      "\n",
      "19it [00:19,  1.04s/it]\u001b[A\u001b[A"
     ]
    },
    {
     "name": "stdout",
     "output_type": "stream",
     "text": [
      "[0.0125 0.65  ]\n",
      "0.20625000000000004 1336\n",
      "counts not large enough\n",
      "counts not large enough\n",
      "counts not large enough\n",
      "counts not large enough\n",
      "counts not large enough\n",
      "counts not large enough\n",
      "counts not large enough\n",
      "counts not large enough\n",
      "[0.0125 0.65  ]\n",
      "0.0 175\n"
     ]
    },
    {
     "name": "stderr",
     "output_type": "stream",
     "text": [
      "\n",
      "\n",
      "20it [00:20,  1.04s/it]\u001b[A\u001b[A\n",
      "\n",
      "\u001b[A\u001b[A"
     ]
    }
   ],
   "source": [
    "rs_mult_extrapolate = calc_relative_sensitivity(gammas, protons, bin_edges, method='extrapolate', alpha=0.2)\n",
    "\n",
    "n_tel = 5\n",
    "s = gammas.query(f'num_triggered_telescopes >= {n_tel}')\n",
    "b = protons.query(f'num_triggered_telescopes >= {n_tel}')\n",
    "# rs_mult = calc_relative_sensitivity(s, b, bin_edges, method='simple', alpha=0.2)\n",
    "# rs_mult_exact = calc_relative_sensitivity(s, b, bin_edges, method='exact', alpha=0.2)\n",
    "rs_mult_extrapolate_5 = calc_relative_sensitivity(s, b, bin_edges, method='extrapolate', alpha=0.2)"
   ]
  },
  {
   "cell_type": "code",
   "execution_count": 161,
   "metadata": {},
   "outputs": [
    {
     "data": {
      "text/plain": [
       "<matplotlib.legend.Legend at 0x7f67113faf28>"
      ]
     },
     "execution_count": 161,
     "metadata": {},
     "output_type": "execute_result"
    },
    {
     "data": {
      "image/png": "[encoded data removed]",
      "text/plain": [
       "<Figure size 720x576 with 1 Axes>"
      ]
     },
     "metadata": {},
     "output_type": "display_data"
    }
   ],
   "source": [
    "plt.figure(figsize=(10, 8))\n",
    "\n",
    "# plot_sensitivity(rs_smooth, crab, bin_edges, bin_center, color='blue')\n",
    "\n",
    "# plot_sensitivity(rs_simple, crab, bin_edges, bin_center, color='crimson', label='0.2')\n",
    "# plot_sensitivity(rs_mult, crab, bin_edges, bin_center, color='green', label='mult ')\n",
    "# plot_sensitivity(rs_mult_exact, crab, bin_edges, bin_center, color='xkcd:lime', label='mult exact')\n",
    "#plot_sensitivity(rs_mult_extrapolate, crab, bin_edges, bin_center, color='xkcd:royal', label='mult extrapolate')\n",
    "plot_sensitivity(rs_mult_extrapolate_5, crab, bin_edges, bin_center, color='xkcd:green', label='mult extrapolate 5')\n",
    "# plot_sensitivity(rs_exact, crab, bin_edges, bin_center, color='blue', label='exact 0.2')\n",
    "\n",
    "# plot_sensitivity(rs_interpolate, crab, bin_edges, bin_center, color='blue', label='interpolate')\n",
    "# plot_sensitivity(rs_exact, crab, bin_edges, bin_center, color='green', label='exact')\n",
    "# plt.ylim([10**(-13.4), 1E-10])\n",
    "plt.xlim([1E-2, 10**(2.5)])\n",
    "plt.legend()\n",
    "\n",
    "# plot_sensitivity(rs_simple_02, crab, bin_edges, bin_center, color='blue')\n",
    "\n",
    "\n",
    "# plot_sensitivity(rs_smooth_02, crab, bin_edges, bin_center, color='navy')"
   ]
  },
  {
   "cell_type": "markdown",
   "metadata": {},
   "source": [
    "## PREVIUSLY ON THIS CHANNEL:\n",
    "\n",
    "\n"
   ]
  },
  {
   "cell_type": "code",
   "execution_count": 148,
   "metadata": {},
   "outputs": [
    {
     "data": {
      "text/plain": [
       "<matplotlib.legend.Legend at 0x7f670fdcd5f8>"
      ]
     },
     "execution_count": 148,
     "metadata": {},
     "output_type": "execute_result"
    },
    {
     "data": {
      "image/png": "[encoded data removed]",
      "text/plain": [
       "<Figure size 432x288 with 1 Axes>"
      ]
     },
     "metadata": {},
     "output_type": "display_data"
    }
   ],
   "source": [
    "plt.step(rs_mult.index, rs_mult.threshold, label='simple')\n",
    "plt.step(rs_mult_exact.index, rs_mult_exact.threshold, label='exact')\n",
    "plt.step(rs_mult_extrapolate.index, rs_mult_extrapolate.threshold, label='extrapolated')\n",
    "plt.legend()"
   ]
  },
  {
   "cell_type": "code",
   "execution_count": 151,
   "metadata": {},
   "outputs": [
    {
     "data": {
      "text/plain": [
       "<matplotlib.legend.Legend at 0x7f67100f1940>"
      ]
     },
     "execution_count": 151,
     "metadata": {},
     "output_type": "execute_result"
    },
    {
     "data": {
      "image/png": "[encoded data removed]",
      "text/plain": [
       "<Figure size 720x576 with 1 Axes>"
      ]
     },
     "metadata": {},
     "output_type": "display_data"
    }
   ],
   "source": [
    "plt.figure(figsize=(10, 8))\n",
    "\n",
    "# plot_sensitivity(rs_smooth, crab, bin_edges, bin_center, color='blue')\n",
    "\n",
    "# plot_sensitivity(rs_simple, crab, bin_edges, bin_center, color='crimson', label='0.2')\n",
    "# plot_sensitivity(rs_mult, crab, bin_edges, bin_center, color='green', label='mult ')\n",
    "# plot_sensitivity(rs_mult_exact, crab, bin_edges, bin_center, color='xkcd:lime', label='mult exact')\n",
    "plot_sensitivity(rs_mult_extrapolate, crab, bin_edges, bin_center, color='xkcd:royal', label='mult extrapolate')\n",
    "plot_sensitivity(rs_mult_extrapolate_5, crab, bin_edges, bin_center, color='xkcd:green', label='mult extrapolate')\n",
    "# plot_sensitivity(rs_exact, crab, bin_edges, bin_center, color='blue', label='exact 0.2')\n",
    "\n",
    "# plot_sensitivity(rs_interpolate, crab, bin_edges, bin_center, color='blue', label='interpolate')\n",
    "# plot_sensitivity(rs_exact, crab, bin_edges, bin_center, color='green', label='exact')\n",
    "# plt.ylim([10**(-13.4), 1E-10])\n",
    "plt.xlim([1E-2, 10**(2.5)])\n",
    "plt.legend()\n",
    "\n",
    "# plot_sensitivity(rs_simple_02, crab, bin_edges, bin_center, color='blue')\n",
    "\n",
    "\n",
    "# plot_sensitivity(rs_smooth_02, crab, bin_edges, bin_center, color='navy')"
   ]
  },
  {
   "cell_type": "code",
   "execution_count": 127,
   "metadata": {},
   "outputs": [],
   "source": [
    "def plot_propaganda(rs, crab, bin_edges, bin_center, color='blue', **kwargs):\n",
    "    sensitivity = rs.sensitivity.values * (crab.flux(bin_center) * bin_center**2).to(u.erg / (u.s * u.cm**2))\n",
    "    sensitivity_low = rs.sensitivity_low.values * (crab.flux(bin_center) * bin_center**2).to(u.erg / (u.s * u.cm**2))\n",
    "    sensitivity_high = rs.sensitivity_high.values * (crab.flux(bin_center) * bin_center**2).to(u.erg / (u.s * u.cm**2))\n",
    "    xerr = [np.abs(bin_edges[:-1] - bin_center).value, np.abs(bin_edges[1:] - bin_center).value]\n",
    "    yerr = [np.abs(sensitivity - sensitivity_low).value, np.abs(sensitivity - sensitivity_high).value]\n",
    "    plt.errorbar(bin_center.value, sensitivity.value, xerr=xerr, yerr=yerr, linestyle='', ecolor=color, **kwargs)\n",
    "\n",
    "    plt.xscale('log')\n",
    "    plt.yscale('log')\n",
    "    plt.ylim([1E-14, 1E-9])\n",
    "    \n",
    "\n",
    "  #  xerr = [np.abs(bin_edges[:-1] - bin_center).value, np.abs(bin_edges[1:] - bin_center).value]\n",
    "   # plt.errorbar(bin_center.value, sensitivity.value, xerr=xerr, linestyle='', color='black',)\n",
    "\n",
    "    \n",
    "    path = '../resources/sensitivity_requirement_south_50.txt'\n",
    "    df = pd.read_csv(path, delim_whitespace=True, names=['log_energy', 'sensitivity'], index_col=False,  engine='python')\n",
    "    df['energy'] = 10**df.log_energy\n",
    "    #plt.plot(df.energy, df.sensitivity, color='gray')\n",
    "    plt.plot(df.energy, df.sensitivity * 3, color='#273187', linestyle='-', label='official requirement')\n",
    "    \n",
    "    plt.ylabel(r'$ E^2 \\cdot \\mathrm{photons} \\quad \\mathrm{erg} /( \\mathrm{s} \\quad  \\mathrm{cm}^2$ )  in ' + str(t_obs.to('h')) )\n",
    "    plt.xlabel(r'$E /  \\mathrm{TeV}$')\n",
    "    plt.legend()\n"
   ]
  },
  {
   "cell_type": "code",
   "execution_count": 76,
   "metadata": {},
   "outputs": [
    {
     "data": {
      "text/plain": [
       "Text(0.5,0,'Energy / TeV')"
      ]
     },
     "execution_count": 76,
     "metadata": {},
     "output_type": "execute_result"
    },
    {
     "data": {
      "image/png": "[encoded data removed]",
      "text/plain": [
       "<Figure size 864x432 with 2 Axes>"
      ]
     },
     "metadata": {},
     "output_type": "display_data"
    }
   ],
   "source": [
    "f, (ax1, ax2) = plt.subplots(1, 2, figsize=(12, 6))\n",
    "ax1.hist(protons.mc_energy, bins=bin_edges, histtype='step', lw=2)\n",
    "ax1.hist(protons.gamma_energy_prediction_mean, bins=bin_edges, histtype='step', lw=2)\n",
    "ax1.set_yscale('log')\n",
    "ax1.set_xscale('log')\n",
    "ax1.set_title('Protons')\n",
    "ax1.set_xlabel('Energy / TeV')\n",
    "\n",
    "ax2.hist(gammas.mc_energy, bins=bin_edges, histtype='step', lw=2)\n",
    "ax2.hist(gammas.gamma_energy_prediction_mean, bins=bin_edges, histtype='step', lw=2)\n",
    "ax2.set_yscale('log')\n",
    "ax2.set_xscale('log')\n",
    "ax2.set_title('Gammas')\n",
    "ax2.set_xlabel('Energy / TeV')"
   ]
  },
  {
   "cell_type": "code",
   "execution_count": null,
   "metadata": {},
   "outputs": [],
   "source": []
  }
 ],
 "metadata": {
  "kernelspec": {
   "display_name": "Python 3",
   "language": "python",
   "name": "python3"
  },
  "language_info": {
   "codemirror_mode": {
    "name": "ipython",
    "version": 3
   },
   "file_extension": ".py",
   "mimetype": "text/x-python",
   "name": "python",
   "nbconvert_exporter": "python",
   "pygments_lexer": "ipython3",
   "version": "3.6.5"
  }
 },
 "nbformat": 4,
 "nbformat_minor": 2
}
