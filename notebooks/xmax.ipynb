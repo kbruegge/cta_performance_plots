{
 "cells": [
  {
   "cell_type": "code",
   "execution_count": 41,
   "metadata": {
    "ExecuteTime": {
     "end_time": "2018-07-05T12:55:24.123537Z",
     "start_time": "2018-07-05T12:55:24.090898Z"
    },
    "collapsed": true
   },
   "outputs": [],
   "source": [
    "import numpy as np\n",
    "import matplotlib.pyplot as plt\n",
    "from mpl_toolkits.mplot3d import Axes3D\n",
    "import fact.io\n",
    "from ctapipe.instrument import get_atmosphere_profile_functions\n",
    "import astropy.units as u\n",
    "\n",
    "%matplotlib inline"
   ]
  },
  {
   "cell_type": "code",
   "execution_count": 42,
   "metadata": {
    "ExecuteTime": {
     "end_time": "2018-07-05T12:55:24.900156Z",
     "start_time": "2018-07-05T12:55:24.511526Z"
    }
   },
   "outputs": [
    {
     "data": {
      "text/plain": [
       "<matplotlib.legend.Legend at 0x10e13b668>"
      ]
     },
     "execution_count": 42,
     "metadata": {},
     "output_type": "execute_result"
    },
    {
     "data": {
      "image/png": "[encoded data removed]",
      "text/plain": [
       "<Figure size 432x288 with 1 Axes>"
      ]
     },
     "metadata": {},
     "output_type": "display_data"
    }
   ],
   "source": [
    "thickness, altitude = get_atmosphere_profile_functions('paranal')\n",
    "\n",
    "df = fact.io.read_data('../cta_preprocessing/gammas_planes.hdf5', key='array_events').dropna()\n",
    "# print(df.describe())\n",
    "\n",
    "mc_h_max = altitude(df.mc_x_max.values * u.Unit('g/cm^2'))\n",
    "\n",
    "bins = np.linspace(-10000, 20000, 20)\n",
    "plt.hist(df.h_max_prediction, histtype='step', lw=2, bins=bins, label='estimation')\n",
    "plt.hist(mc_h_max, histtype='step', lw=2, bins=bins, label='truth')\n",
    "plt.legend()\n",
    "#     x_max = event.mc.x_max\n",
    "#     print(x_max, altitude(x_max))"
   ]
  },
  {
   "cell_type": "code",
   "execution_count": 43,
   "metadata": {
    "ExecuteTime": {
     "end_time": "2018-07-05T12:55:26.078176Z",
     "start_time": "2018-07-05T12:55:25.869662Z"
    }
   },
   "outputs": [
    {
     "data": {
      "image/png": "[encoded data removed]",
      "text/plain": [
       "<Figure size 432x288 with 1 Axes>"
      ]
     },
     "metadata": {},
     "output_type": "display_data"
    }
   ],
   "source": [
    "plt.hist2d(mc_h_max, df.h_max_prediction, bins=bins)\n",
    "None"
   ]
  },
  {
   "cell_type": "code",
   "execution_count": null,
   "metadata": {
    "collapsed": true
   },
   "outputs": [],
   "source": []
  }
 ],
 "metadata": {
  "kernelspec": {
   "display_name": "Python 3",
   "language": "python",
   "name": "python3"
  },
  "language_info": {
   "codemirror_mode": {
    "name": "ipython",
    "version": 3
   },
   "file_extension": ".py",
   "mimetype": "text/x-python",
   "name": "python",
   "nbconvert_exporter": "python",
   "pygments_lexer": "ipython3",
   "version": "3.6.5"
  }
 },
 "nbformat": 4,
 "nbformat_minor": 2
}
