{
 "cells": [
  {
   "cell_type": "code",
   "execution_count": 103,
   "metadata": {
    "ExecuteTime": {
     "end_time": "2018-07-27T15:01:07.026667Z",
     "start_time": "2018-07-27T15:01:03.493881Z"
    }
   },
   "outputs": [],
   "source": [
    "import astropy.units as u\n",
    "from spectrum import CosmicRaySpectrum, CrabSpectrum, CTAElectronSpectrum, MCSpectrum, make_energy_bins\n",
    "import fact.io\n",
    "\n",
    "from astropy.coordinates import Angle\n",
    "from astropy.coordinates.angle_utilities import angular_separation\n",
    "\n",
    "from scipy.ndimage import gaussian_filter\n",
    "from scipy.interpolate import interp1d\n",
    "\n",
    "import numpy as np\n",
    "import pandas as pd\n",
    "import matplotlib.pyplot as plt\n",
    "from fact.analysis import li_ma_significance\n",
    "from scipy.optimize import brute\n",
    "from scipy.optimize import minimize_scalar\n",
    "from tqdm import tqdm\n",
    "%matplotlib inline"
   ]
  },
  {
   "cell_type": "code",
   "execution_count": 104,
   "metadata": {
    "ExecuteTime": {
     "end_time": "2018-07-27T15:01:10.054216Z",
     "start_time": "2018-07-27T15:01:07.029291Z"
    }
   },
   "outputs": [
    {
     "name": "stdout",
     "output_type": "stream",
     "text": [
      "Index(['gamma_prediction_mean', 'gamma_energy_prediction_mean',\n",
      "       'az_prediction', 'alt_prediction', 'mc_alt', 'mc_az', 'mc_energy',\n",
      "       'num_triggered_telescopes', 'type', 'weight'],\n",
      "      dtype='object')\n",
      "7304127\n",
      "959909\n"
     ]
    }
   ],
   "source": [
    "n_bins = 20\n",
    "\n",
    "gamma_input = '../../cta_rta_analysis/build/gammas_test.hdf5'\n",
    "proton_input = '../../cta_rta_analysis/build/protons_test.hdf5'\n",
    "\n",
    "t_obs = 50 * u.h\n",
    "e_min, e_max = 0.02 * u.TeV, 200 * u.TeV\n",
    "bin_edges, bin_center, bin_width = make_energy_bins(e_min=e_min, e_max=e_max, bins=n_bins, centering='log')\n",
    "\n",
    "columns = ['gamma_prediction_mean', 'gamma_energy_prediction_mean', 'az_prediction', 'alt_prediction', 'mc_alt', 'mc_az', 'mc_energy', 'num_triggered_telescopes']\n",
    "\n",
    "gammas = fact.io.read_data(gamma_input, key='array_events', columns=columns)\n",
    "gammas = gammas.dropna()\n",
    "gammas['type'] = 0\n",
    "gamma_runs = fact.io.read_data(gamma_input, key='runs')\n",
    "mc_production_gamma = MCSpectrum.from_cta_runs(gamma_runs)\n",
    "\n",
    "protons = fact.io.read_data(proton_input, key='array_events', columns=columns)\n",
    "protons = protons.dropna()\n",
    "protons['type'] = 1\n",
    "proton_runs = fact.io.read_data(proton_input, key='runs')\n",
    "mc_production_proton = MCSpectrum.from_cta_runs(proton_runs)\n",
    "\n",
    "crab = CrabSpectrum()\n",
    "cosmic_proton = CosmicRaySpectrum()\n",
    "\n",
    "gammas['weight'] = mc_production_gamma.reweigh_to_other_spectrum(crab, gammas.mc_energy.values * u.TeV, t_assumed_obs=t_obs)\n",
    "protons['weight'] = mc_production_proton.reweigh_to_other_spectrum(cosmic_proton, protons.mc_energy.values * u.TeV, t_assumed_obs=t_obs)\n",
    "\n",
    "print(gammas.columns)\n",
    "\n",
    "print(len(protons))\n",
    "print(len(gammas))"
   ]
  },
  {
   "cell_type": "code",
   "execution_count": 105,
   "metadata": {
    "ExecuteTime": {
     "end_time": "2018-07-27T15:01:12.011534Z",
     "start_time": "2018-07-27T15:01:11.216384Z"
    }
   },
   "outputs": [],
   "source": [
    "def calculate_theta(df, source_alt=70 * u.deg, source_az=0 * u.deg):\n",
    "    source_az = Angle(source_az).wrap_at(180 * u.deg)\n",
    "    source_alt = Angle(source_alt)\n",
    "\n",
    "    az = Angle(df.az_prediction.values, unit=u.rad).wrap_at(180*u.deg)\n",
    "    alt = Angle(df.alt_prediction.values, unit=u.rad)\n",
    "\n",
    "    return angular_separation(source_az, source_alt, az, alt).to(u.deg).value\n",
    "\n",
    "gammas['theta'] = calculate_theta(gammas)\n",
    "protons['theta'] = calculate_theta(protons)"
   ]
  },
  {
   "cell_type": "code",
   "execution_count": 106,
   "metadata": {
    "ExecuteTime": {
     "end_time": "2018-07-27T15:21:47.547389Z",
     "start_time": "2018-07-27T15:21:47.154011Z"
    }
   },
   "outputs": [],
   "source": [
    "def count_events_in_region(df, theta2=0.03, prediction_threshold=0.5):\n",
    "    m = ((df.theta**2 <= theta2) & (df.gamma_prediction_mean >= prediction_threshold))\n",
    "    return df[m].weight.sum(), m.sum()\n",
    "\n",
    "\n",
    "\n",
    "def count_off_events_in_region(df, theta2=0.03, prediction_threshold=0.5):\n",
    "    df = df.query('theta < 1.0')\n",
    "    m = df.gamma_prediction_mean >= prediction_threshold\n",
    "#     m = ((df.theta**2 <= theta2) & (df.gamma_prediction_mean >= prediction_threshold))\n",
    "    return df[m].weight.sum() * theta2, m.sum() * theta2\n",
    "\n",
    "\n",
    "def select_events_in_energy_range(signal, background, e_low, e_high, use_true_energy=False):\n",
    "    \n",
    "    column = 'mc_energy' if use_true_energy else 'gamma_energy_prediction_mean'\n",
    "    m = ((signal[column] > e_low ) & (signal[column] < e_high ))\n",
    "    s = signal[m]\n",
    "\n",
    "    m = ((background[column] > e_low ) & (background[column] < e_high ))\n",
    "    b = background[m]\n",
    "    return s, b\n",
    "\n",
    "def scaling_factor(n_signal, n_background, t_signal, t_background, alpha=1, N=200): \n",
    "    \n",
    "    right_bound = 100\n",
    "\n",
    "    def target(scaling_factor, n_signal, n_background, alpha=1, sigma=5):\n",
    "        n_on = n_background*alpha + n_signal * scaling_factor\n",
    "        n_off = n_background\n",
    "        \n",
    "        significance = li_ma_significance(n_on, n_off, alpha=alpha)\n",
    "        return (5 - significance)**2\n",
    "    \n",
    "#     print(t_background, n_background, '---------', t_signal, n_signal)\n",
    "    n_signal = np.random.poisson(t_signal, size=N) * n_signal / t_signal\n",
    "    n_background = np.random.poisson(t_background, size=N) * n_background / t_background\n",
    "    \n",
    "    \n",
    "    hs = []\n",
    "    for signal, background in zip(n_signal, n_background):\n",
    "        if background == 0:\n",
    "            hs.append(np.nan)\n",
    "        else:\n",
    "            result = minimize_scalar(target, args=(signal, background, alpha), bounds=(0, right_bound), method='bounded').x\n",
    "            if np.allclose(result, right_bound):\n",
    "                result = np.nan\n",
    "            hs.append(result)\n",
    "    return np.nanpercentile(np.array(hs), (50, 5, 95))\n",
    "\n",
    "\n",
    "# regions=slice(0.015, 0.02, 0.0025), thresholds=slice(0.8, 9, 0.05)\n",
    "#regions=slice(0.0025, 0.07, 0.0025), thresholds=slice(0.3, 1, 0.05)\n",
    "def find_best_cuts(signal, background, alpha, regions=slice(0.0025, 0.08, 0.01), thresholds=slice(0.4, 1, 0.05), method='simple'):\n",
    "    \n",
    "    def significance_target(cuts, signal, background, alpha):\n",
    "        theta2, p_cut = cuts\n",
    "        n_signal, t_signal = count_events_in_region(signal, theta2=theta2, prediction_threshold=p_cut)\n",
    "\n",
    "        if method == 'exact':\n",
    "            n_background, t_background = count_events_in_region(background, theta2=theta2/alpha, prediction_threshold=p_cut)\n",
    "        elif method == 'simple':\n",
    "            n_background, t_background = count_off_events_in_region(background, theta2=theta2/alpha, prediction_threshold=p_cut)\n",
    "\n",
    "        if t_signal <= t_background * alpha + 10:\n",
    "#             print('signal not large enough')\n",
    "            return 0\n",
    "        \n",
    "        if n_signal*5 < n_background * 0.01:\n",
    "#             print('sys problem')\n",
    "            return 0\n",
    "            \n",
    "                \n",
    "        n_on = n_signal + alpha*n_background\n",
    "        n_off = n_background\n",
    "        return -li_ma_significance(n_on, n_off, alpha=alpha)\n",
    "\n",
    "    result = brute(significance_target, ranges=[regions, thresholds], args=(signal, background, alpha), finish=None)\n",
    "    print(result)\n",
    "    return result\n",
    "\n",
    "\n",
    "def calc_relative_sensitivity(signal, background, bin_edges, alpha=1, use_true_energy=False, method='simple'):\n",
    "    relative_sensitivities = []\n",
    "\n",
    "    for e_low, e_high in tqdm(zip(bin_edges[:-1], bin_edges[1:])):\n",
    "        s, b = select_events_in_energy_range(signal, background, e_low, e_high, use_true_energy=use_true_energy)\n",
    "        \n",
    "        theta2, cut = find_best_cuts(s, b, alpha=alpha, method=method)\n",
    "\n",
    "        n_signal, t_signal = count_events_in_region(s, theta2=theta2, prediction_threshold=cut)\n",
    "\n",
    "        if method == 'simple':\n",
    "            n_background, t_background = count_off_events_in_region(b, theta2=theta2/alpha, prediction_threshold=cut)\n",
    "        elif method == 'exact':\n",
    "            n_background, t_background = count_events_in_region(b, theta2=theta2/alpha, prediction_threshold=cut)\n",
    "       \n",
    "        rs = scaling_factor(n_signal, n_background, t_signal, t_background, alpha=alpha)\n",
    "        relative_sensitivities.append(rs)\n",
    "        \n",
    "       \n",
    "        \n",
    "    m, l, h = np.array(relative_sensitivities).T\n",
    "    d = {'sensitivity': m, 'sensitivity_low': l, 'sensitivity_high': h}\n",
    "    return pd.DataFrame(d)\n",
    "\n"
   ]
  },
  {
   "cell_type": "code",
   "execution_count": 107,
   "metadata": {
    "ExecuteTime": {
     "end_time": "2018-07-27T15:21:47.694283Z",
     "start_time": "2018-07-27T15:21:47.549911Z"
    }
   },
   "outputs": [],
   "source": [
    "def plot_sensitivity(rs, crab, bin_edges, bin_center, color='blue', **kwargs):\n",
    "    sensitivity = rs.sensitivity.values * (crab.flux(bin_center) * bin_center**2).to(u.erg / (u.s * u.cm**2))\n",
    "    sensitivity_low = rs.sensitivity_low.values * (crab.flux(bin_center) * bin_center**2).to(u.erg / (u.s * u.cm**2))\n",
    "    sensitivity_high = rs.sensitivity_high.values * (crab.flux(bin_center) * bin_center**2).to(u.erg / (u.s * u.cm**2))\n",
    "    xerr = [np.abs(bin_edges[:-1] - bin_center).value, np.abs(bin_edges[1:] - bin_center).value]\n",
    "    yerr = [np.abs(sensitivity - sensitivity_low).value, np.abs(sensitivity - sensitivity_high).value]\n",
    "    plt.errorbar(bin_center.value, sensitivity.value, xerr=xerr, yerr=yerr, linestyle='', ecolor=color, **kwargs)\n",
    "\n",
    "    plt.xscale('log')\n",
    "    plt.yscale('log')\n",
    "    plt.plot(bin_edges, crab.flux(bin_edges) * bin_edges**2, '--', color='gray')\n",
    "    plt.ylim([1E-14, 1E-9])\n",
    "    \n",
    "    path = '../resources/ascii/CTA-Performance-prod3b-v1-South-20deg-50h-DiffSens.txt'\n",
    "    df = pd.read_csv(path, delimiter='\\t\\t', skiprows=10, names=['e_min', 'e_max', 'sensitivity'], engine='python')\n",
    "    bin_edges = sorted(list(set(df.e_min) | set(df.e_max))) * u.TeV\n",
    "    bin_center = np.sqrt(bin_edges[:-1] * bin_edges[1:])\n",
    "    sensitivity = df.sensitivity.values * u.erg/(u.cm**2 * u.s)\n",
    "\n",
    "    xerr = [np.abs(bin_edges[:-1] - bin_center).value, np.abs(bin_edges[1:] - bin_center).value]\n",
    "    plt.errorbar(bin_center.value, sensitivity.value, xerr=xerr, linestyle='', color='black',)\n",
    "\n",
    "    \n",
    "    path = '../resources/sensitivity_requirement_south_50.txt'\n",
    "    df = pd.read_csv(path, delim_whitespace=True, names=['log_energy', 'sensitivity'], index_col=False,  engine='python')\n",
    "    df['energy'] = 10**df.log_energy\n",
    "    plt.plot(df.energy, df.sensitivity, color='gray')\n",
    "    \n",
    "    plt.plot(df.energy, df.sensitivity * 3, color='lightgray', linestyle='--')\n",
    "    \n",
    "    plt.ylabel(r'$ E^2 \\cdot \\mathrm{photons} \\quad \\mathrm{erg} /( \\mathrm{s} \\quad  \\mathrm{cm}^2$ )  in ' + str(t_obs.to('h')) )\n",
    "    plt.xlabel(r'$E /  \\mathrm{TeV}$')\n"
   ]
  },
  {
   "cell_type": "code",
   "execution_count": 108,
   "metadata": {
    "ExecuteTime": {
     "end_time": "2018-07-27T15:23:39.270461Z",
     "start_time": "2018-07-27T15:22:40.364735Z"
    },
    "scrolled": true
   },
   "outputs": [
    {
     "name": "stderr",
     "output_type": "stream",
     "text": [
      "\n",
      "0it [00:00, ?it/s]\u001b[A"
     ]
    },
    {
     "name": "stdout",
     "output_type": "stream",
     "text": [
      "[0.0725 0.95  ]\n"
     ]
    },
    {
     "name": "stderr",
     "output_type": "stream",
     "text": [
      "\n",
      "1it [00:00,  1.14it/s]\u001b[A"
     ]
    },
    {
     "name": "stdout",
     "output_type": "stream",
     "text": [
      "[0.0525 0.95  ]\n"
     ]
    },
    {
     "name": "stderr",
     "output_type": "stream",
     "text": [
      "\n",
      "2it [00:02,  1.01s/it]\u001b[A"
     ]
    },
    {
     "name": "stdout",
     "output_type": "stream",
     "text": [
      "[0.0525 0.95  ]\n"
     ]
    },
    {
     "name": "stderr",
     "output_type": "stream",
     "text": [
      "\n",
      "3it [00:03,  1.09s/it]\u001b[A"
     ]
    },
    {
     "name": "stdout",
     "output_type": "stream",
     "text": [
      "[0.0425 0.95  ]\n"
     ]
    },
    {
     "name": "stderr",
     "output_type": "stream",
     "text": [
      "\n",
      "4it [00:04,  1.15s/it]\u001b[A"
     ]
    },
    {
     "name": "stdout",
     "output_type": "stream",
     "text": [
      "[0.0325 0.95  ]\n"
     ]
    },
    {
     "name": "stderr",
     "output_type": "stream",
     "text": [
      "\n",
      "5it [00:06,  1.25s/it]\u001b[A"
     ]
    },
    {
     "name": "stdout",
     "output_type": "stream",
     "text": [
      "[0.0325 0.9   ]\n"
     ]
    },
    {
     "name": "stderr",
     "output_type": "stream",
     "text": [
      "\n",
      "6it [00:07,  1.29s/it]\u001b[A"
     ]
    },
    {
     "name": "stdout",
     "output_type": "stream",
     "text": [
      "[0.0225 0.85  ]\n"
     ]
    },
    {
     "name": "stderr",
     "output_type": "stream",
     "text": [
      "\n",
      "7it [00:08,  1.28s/it]\u001b[A"
     ]
    },
    {
     "name": "stdout",
     "output_type": "stream",
     "text": [
      "[0.0225 0.85  ]\n"
     ]
    },
    {
     "name": "stderr",
     "output_type": "stream",
     "text": [
      "\n",
      "8it [00:10,  1.27s/it]\u001b[A"
     ]
    },
    {
     "name": "stdout",
     "output_type": "stream",
     "text": [
      "[0.0225 0.85  ]\n"
     ]
    },
    {
     "name": "stderr",
     "output_type": "stream",
     "text": [
      "\n",
      "9it [00:11,  1.25s/it]\u001b[A"
     ]
    },
    {
     "name": "stdout",
     "output_type": "stream",
     "text": [
      "[0.0225 0.8   ]\n"
     ]
    },
    {
     "name": "stderr",
     "output_type": "stream",
     "text": [
      "\n",
      "10it [00:12,  1.23s/it]\u001b[A"
     ]
    },
    {
     "name": "stdout",
     "output_type": "stream",
     "text": [
      "[0.0225 0.8   ]\n"
     ]
    },
    {
     "name": "stderr",
     "output_type": "stream",
     "text": [
      "\n",
      "11it [00:13,  1.21s/it]\u001b[A"
     ]
    },
    {
     "name": "stdout",
     "output_type": "stream",
     "text": [
      "[0.0125 0.8   ]\n"
     ]
    },
    {
     "name": "stderr",
     "output_type": "stream",
     "text": [
      "\n",
      "12it [00:14,  1.19s/it]\u001b[A"
     ]
    },
    {
     "name": "stdout",
     "output_type": "stream",
     "text": [
      "[0.0125 0.8   ]\n"
     ]
    },
    {
     "name": "stderr",
     "output_type": "stream",
     "text": [
      "\n",
      "13it [00:15,  1.17s/it]\u001b[A"
     ]
    },
    {
     "name": "stdout",
     "output_type": "stream",
     "text": [
      "[0.0125 0.8   ]\n"
     ]
    },
    {
     "name": "stderr",
     "output_type": "stream",
     "text": [
      "\n",
      "14it [00:15,  1.14s/it]\u001b[A\n",
      "15it [00:16,  1.11s/it]\u001b[A"
     ]
    },
    {
     "name": "stdout",
     "output_type": "stream",
     "text": [
      "[0.0125 0.8   ]\n",
      "[0.0125 0.75  ]\n"
     ]
    },
    {
     "name": "stderr",
     "output_type": "stream",
     "text": [
      "\n",
      "16it [00:17,  1.09s/it]\u001b[A\n",
      "17it [00:18,  1.06s/it]\u001b[A"
     ]
    },
    {
     "name": "stdout",
     "output_type": "stream",
     "text": [
      "[0.0125 0.75  ]\n"
     ]
    },
    {
     "name": "stderr",
     "output_type": "stream",
     "text": [
      "\n",
      "18it [00:18,  1.03s/it]\u001b[A"
     ]
    },
    {
     "name": "stdout",
     "output_type": "stream",
     "text": [
      "[0.0125 0.7   ]\n"
     ]
    },
    {
     "name": "stderr",
     "output_type": "stream",
     "text": [
      "\n",
      "19it [00:19,  1.00s/it]\u001b[A"
     ]
    },
    {
     "name": "stdout",
     "output_type": "stream",
     "text": [
      "[0.0125 0.7   ]\n"
     ]
    },
    {
     "name": "stderr",
     "output_type": "stream",
     "text": [
      "\n",
      "20it [00:19,  1.03it/s]\u001b[A\n",
      "\u001b[A"
     ]
    },
    {
     "name": "stdout",
     "output_type": "stream",
     "text": [
      "[0.0125 0.7   ]\n"
     ]
    }
   ],
   "source": [
    "# rs_simple = calc_relative_sensitivity(gammas, protons, bin_edges, method='simple', alpha=0.2)\n",
    "# rs_exact = calc_relative_sensitivity(gammas, protons, bin_edges, method='exact', alpha=0.2)\n",
    "\n",
    "s = gammas.query('num_triggered_telescopes >= 4')\n",
    "b = protons.query('num_triggered_telescopes >= 4')\n",
    "rs_mult = calc_relative_sensitivity(s, b, bin_edges, method='simple', alpha=0.2)\n",
    "# rs_mult_exact = calc_relative_sensitivity(s, b, bin_edges, method='exact', alpha=0.2)"
   ]
  },
  {
   "cell_type": "code",
   "execution_count": 115,
   "metadata": {},
   "outputs": [],
   "source": [
    "def plot_propaganda(rs, crab, bin_edges, bin_center, color='blue', **kwargs):\n",
    "    sensitivity = rs.sensitivity.values * (crab.flux(bin_center) * bin_center**2).to(u.erg / (u.s * u.cm**2))\n",
    "    sensitivity_low = rs.sensitivity_low.values * (crab.flux(bin_center) * bin_center**2).to(u.erg / (u.s * u.cm**2))\n",
    "    sensitivity_high = rs.sensitivity_high.values * (crab.flux(bin_center) * bin_center**2).to(u.erg / (u.s * u.cm**2))\n",
    "    xerr = [np.abs(bin_edges[:-1] - bin_center).value, np.abs(bin_edges[1:] - bin_center).value]\n",
    "    yerr = [np.abs(sensitivity - sensitivity_low).value, np.abs(sensitivity - sensitivity_high).value]\n",
    "    plt.errorbar(bin_center.value, sensitivity.value, xerr=xerr, yerr=yerr, linestyle='', ecolor=color, **kwargs)\n",
    "\n",
    "    plt.xscale('log')\n",
    "    plt.yscale('log')\n",
    "    plt.ylim([1E-14, 1E-9])\n",
    "    \n",
    "\n",
    "  #  xerr = [np.abs(bin_edges[:-1] - bin_center).value, np.abs(bin_edges[1:] - bin_center).value]\n",
    "   # plt.errorbar(bin_center.value, sensitivity.value, xerr=xerr, linestyle='', color='black',)\n",
    "\n",
    "    \n",
    "    path = '../resources/sensitivity_requirement_south_50.txt'\n",
    "    df = pd.read_csv(path, delim_whitespace=True, names=['log_energy', 'sensitivity'], index_col=False,  engine='python')\n",
    "    df['energy'] = 10**df.log_energy\n",
    "    #plt.plot(df.energy, df.sensitivity, color='gray')\n",
    "    plt.plot(df.energy, df.sensitivity * 3, color='#273187', linestyle='-', label='official requirement')\n",
    "    \n",
    "    plt.ylabel(r'$ E^2 \\cdot \\mathrm{photons} \\quad \\mathrm{erg} /( \\mathrm{s} \\quad  \\mathrm{cm}^2$ )  in ' + str(t_obs.to('h')) )\n",
    "    plt.xlabel(r'$E /  \\mathrm{TeV}$')\n",
    "    plt.legend()\n"
   ]
  },
  {
   "cell_type": "code",
   "execution_count": 121,
   "metadata": {},
   "outputs": [
    {
     "data": {
      "image/png": "[encoded data removed]",
      "text/plain": [
       "<Figure size 432x324 with 1 Axes>"
      ]
     },
     "metadata": {},
     "output_type": "display_data"
    }
   ],
   "source": [
    "plt.figure(figsize=(6, 4.5))\n",
    "plot_propaganda(rs_mult, crab, bin_edges, bin_center, color='#7ac143', label='real-time analysis')\n",
    "plt.savefig('rta_propaganda.pdf')"
   ]
  },
  {
   "cell_type": "code",
   "execution_count": 109,
   "metadata": {},
   "outputs": [
    {
     "data": {
      "text/plain": [
       "<matplotlib.legend.Legend at 0x7ff208823e10>"
      ]
     },
     "execution_count": 109,
     "metadata": {},
     "output_type": "execute_result"
    },
    {
     "data": {
      "image/png": "[encoded data removed]",
      "text/plain": [
       "<Figure size 720x576 with 1 Axes>"
      ]
     },
     "metadata": {},
     "output_type": "display_data"
    }
   ],
   "source": [
    "plt.figure(figsize=(10, 8))\n",
    "\n",
    "# plot_sensitivity(rs_smooth, crab, bin_edges, bin_center, color='blue')\n",
    "\n",
    "# plot_sensitivity(rs_simple, crab, bin_edges, bin_center, color='crimson', label='0.2')\n",
    "plot_sensitivity(rs_mult, crab, bin_edges, bin_center, color='green', label='mult ')\n",
    "# plot_sensitivity(rs_mult_exact, crab, bin_edges, bin_center, color='xkcd:lime', label='mult exact')\n",
    "# plot_sensitivity(rs_exact, crab, bin_edges, bin_center, color='blue', label='exact 0.2')\n",
    "\n",
    "# plot_sensitivity(rs_interpolate, crab, bin_edges, bin_center, color='blue', label='interpolate')\n",
    "# plot_sensitivity(rs_exact, crab, bin_edges, bin_center, color='green', label='exact')\n",
    "plt.legend()\n",
    "\n",
    "# plot_sensitivity(rs_simple_02, crab, bin_edges, bin_center, color='blue')\n",
    "\n",
    "\n",
    "# plot_sensitivity(rs_smooth_02, crab, bin_edges, bin_center, color='navy')"
   ]
  },
  {
   "cell_type": "code",
   "execution_count": 97,
   "metadata": {
    "scrolled": false
   },
   "outputs": [
    {
     "data": {
      "text/plain": [
       "<matplotlib.legend.Legend at 0x7ff2092aee80>"
      ]
     },
     "execution_count": 97,
     "metadata": {},
     "output_type": "execute_result"
    },
    {
     "data": {
      "image/png": "[encoded data removed]",
      "text/plain": [
       "<Figure size 720x576 with 1 Axes>"
      ]
     },
     "metadata": {},
     "output_type": "display_data"
    }
   ],
   "source": [
    "plt.figure(figsize=(10, 8))\n",
    "\n",
    "# plot_sensitivity(rs_smooth, crab, bin_edges, bin_center, color='blue')\n",
    "\n",
    "# plot_sensitivity(rs_simple, crab, bin_edges, bin_center, color='crimson', label='0.2')\n",
    "plot_sensitivity(rs_mult, crab, bin_edges, bin_center, color='green', label='mult ')\n",
    "plot_sensitivity(rs_mult_exact, crab, bin_edges, bin_center, color='xkcd:lime', label='mult exact')\n",
    "# plot_sensitivity(rs_exact, crab, bin_edges, bin_center, color='blue', label='exact 0.2')\n",
    "\n",
    "# plot_sensitivity(rs_interpolate, crab, bin_edges, bin_center, color='blue', label='interpolate')\n",
    "# plot_sensitivity(rs_exact, crab, bin_edges, bin_center, color='green', label='exact')\n",
    "plt.legend()\n",
    "\n",
    "# plot_sensitivity(rs_simple_02, crab, bin_edges, bin_center, color='blue')\n",
    "\n",
    "\n",
    "# plot_sensitivity(rs_smooth_02, crab, bin_edges, bin_center, color='navy')"
   ]
  },
  {
   "cell_type": "code",
   "execution_count": 98,
   "metadata": {},
   "outputs": [
    {
     "data": {
      "text/plain": [
       "Text(0.5,0,'Energy / TeV')"
      ]
     },
     "execution_count": 98,
     "metadata": {},
     "output_type": "execute_result"
    },
    {
     "data": {
      "image/png": "[encoded data removed]",
      "text/plain": [
       "<Figure size 864x432 with 2 Axes>"
      ]
     },
     "metadata": {},
     "output_type": "display_data"
    }
   ],
   "source": [
    "f, (ax1, ax2) = plt.subplots(1, 2, figsize=(12, 6))\n",
    "ax1.hist(protons.mc_energy, bins=bin_edges, histtype='step', lw=2)\n",
    "ax1.hist(protons.gamma_energy_prediction_mean, bins=bin_edges, histtype='step', lw=2)\n",
    "ax1.set_yscale('log')\n",
    "ax1.set_xscale('log')\n",
    "ax1.set_title('Protons')\n",
    "ax1.set_xlabel('Energy / TeV')\n",
    "\n",
    "ax2.hist(gammas.mc_energy, bins=bin_edges, histtype='step', lw=2)\n",
    "ax2.hist(gammas.gamma_energy_prediction_mean, bins=bin_edges, histtype='step', lw=2)\n",
    "ax2.set_yscale('log')\n",
    "ax2.set_xscale('log')\n",
    "ax2.set_title('Gammas')\n",
    "ax2.set_xlabel('Energy / TeV')"
   ]
  },
  {
   "cell_type": "code",
   "execution_count": null,
   "metadata": {},
   "outputs": [],
   "source": []
  }
 ],
 "metadata": {
  "kernelspec": {
   "display_name": "Python 3",
   "language": "python",
   "name": "python3"
  },
  "language_info": {
   "codemirror_mode": {
    "name": "ipython",
    "version": 3
   },
   "file_extension": ".py",
   "mimetype": "text/x-python",
   "name": "python",
   "nbconvert_exporter": "python",
   "pygments_lexer": "ipython3",
   "version": "3.6.5"
  }
 },
 "nbformat": 4,
 "nbformat_minor": 2
}
