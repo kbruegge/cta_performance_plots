{
 "cells": [
  {
   "cell_type": "code",
   "execution_count": 1,
   "metadata": {
    "ExecuteTime": {
     "end_time": "2018-07-27T15:01:07.026667Z",
     "start_time": "2018-07-27T15:01:03.493881Z"
    }
   },
   "outputs": [],
   "source": [
    "import astropy.units as u\n",
    "from spectrum import CosmicRaySpectrum, CrabSpectrum, CTAElectronSpectrum, MCSpectrum, make_energy_bins\n",
    "import fact.io\n",
    "\n",
    "from astropy.coordinates import Angle\n",
    "from astropy.coordinates.angle_utilities import angular_separation\n",
    "\n",
    "from scipy.ndimage import gaussian_filter\n",
    "from scipy.interpolate import interp1d\n",
    "\n",
    "import numpy as np\n",
    "import pandas as pd\n",
    "import matplotlib.pyplot as plt\n",
    "from fact.analysis import li_ma_significance\n",
    "from scipy.optimize import brute\n",
    "from scipy.optimize import minimize_scalar\n",
    "from tqdm import tqdm\n",
    "%matplotlib inline"
   ]
  },
  {
   "cell_type": "code",
   "execution_count": 2,
   "metadata": {
    "ExecuteTime": {
     "end_time": "2018-07-27T15:01:10.054216Z",
     "start_time": "2018-07-27T15:01:07.029291Z"
    }
   },
   "outputs": [
    {
     "name": "stdout",
     "output_type": "stream",
     "text": [
      "Index(['gamma_prediction_mean', 'gamma_energy_prediction_mean',\n",
      "       'az_prediction', 'alt_prediction', 'mc_alt', 'mc_az', 'mc_energy',\n",
      "       'num_triggered_telescopes', 'type', 'weight'],\n",
      "      dtype='object')\n",
      "7304127\n",
      "959909\n"
     ]
    }
   ],
   "source": [
    "n_bins = 20\n",
    "\n",
    "gamma_input = '../../cta_rta_analysis/build/gammas_test.hdf5'\n",
    "proton_input = '../../cta_rta_analysis/build/protons_test.hdf5'\n",
    "\n",
    "t_obs = 50 * u.h\n",
    "e_min, e_max = 0.02 * u.TeV, 200 * u.TeV\n",
    "bin_edges, bin_center, bin_width = make_energy_bins(e_min=e_min, e_max=e_max, bins=n_bins, centering='log')\n",
    "\n",
    "columns = ['gamma_prediction_mean', 'gamma_energy_prediction_mean', 'az_prediction', 'alt_prediction', 'mc_alt', 'mc_az', 'mc_energy', 'num_triggered_telescopes']\n",
    "\n",
    "gammas = fact.io.read_data(gamma_input, key='array_events', columns=columns)\n",
    "gammas = gammas.dropna()\n",
    "gammas['type'] = 0\n",
    "gamma_runs = fact.io.read_data(gamma_input, key='runs')\n",
    "mc_production_gamma = MCSpectrum.from_cta_runs(gamma_runs)\n",
    "\n",
    "protons = fact.io.read_data(proton_input, key='array_events', columns=columns)\n",
    "protons = protons.dropna()\n",
    "protons['type'] = 1\n",
    "proton_runs = fact.io.read_data(proton_input, key='runs')\n",
    "mc_production_proton = MCSpectrum.from_cta_runs(proton_runs)\n",
    "\n",
    "crab = CrabSpectrum()\n",
    "cosmic_proton = CosmicRaySpectrum()\n",
    "\n",
    "gammas['weight'] = mc_production_gamma.reweigh_to_other_spectrum(crab, gammas.mc_energy.values * u.TeV, t_assumed_obs=t_obs)\n",
    "protons['weight'] = mc_production_proton.reweigh_to_other_spectrum(cosmic_proton, protons.mc_energy.values * u.TeV, t_assumed_obs=t_obs)\n",
    "\n",
    "print(gammas.columns)\n",
    "\n",
    "print(len(protons))\n",
    "print(len(gammas))"
   ]
  },
  {
   "cell_type": "code",
   "execution_count": 3,
   "metadata": {
    "ExecuteTime": {
     "end_time": "2018-07-27T15:01:12.011534Z",
     "start_time": "2018-07-27T15:01:11.216384Z"
    }
   },
   "outputs": [],
   "source": [
    "def calculate_theta(df, source_alt=70 * u.deg, source_az=0 * u.deg):\n",
    "    source_az = Angle(source_az).wrap_at(180 * u.deg)\n",
    "    source_alt = Angle(source_alt)\n",
    "\n",
    "    az = Angle(df.az_prediction.values, unit=u.rad).wrap_at(180*u.deg)\n",
    "    alt = Angle(df.alt_prediction.values, unit=u.rad)\n",
    "\n",
    "    return angular_separation(source_az, source_alt, az, alt).to(u.deg).value\n",
    "\n",
    "gammas['theta'] = calculate_theta(gammas)\n",
    "protons['theta'] = calculate_theta(protons)"
   ]
  },
  {
   "cell_type": "code",
   "execution_count": 27,
   "metadata": {
    "ExecuteTime": {
     "end_time": "2018-07-27T15:21:47.547389Z",
     "start_time": "2018-07-27T15:21:47.154011Z"
    }
   },
   "outputs": [],
   "source": [
    "def count_events_in_region(df, theta2=0.03, prediction_threshold=0.5):\n",
    "    m = ((df.theta**2 <= theta2) & (df.gamma_prediction_mean >= prediction_threshold))\n",
    "    return df[m].weight.sum(), m.sum()\n",
    "\n",
    "\n",
    "def count_off_events_in_region(df, theta2=0.03, prediction_threshold=0.5):\n",
    "    region = 1\n",
    "    df = df.query(f'theta < {region}')\n",
    "    m = df.gamma_prediction_mean >= prediction_threshold\n",
    "    alpha = theta2/region**2\n",
    "    return df[m].weight.sum(), m.sum(), alpha\n",
    "\n",
    "\n",
    "def select_events_in_energy_range(signal, background, e_low, e_high, use_true_energy=False):\n",
    "    \n",
    "    column = 'mc_energy' if use_true_energy else 'gamma_energy_prediction_mean'\n",
    "    m = ((signal[column] > e_low ) & (signal[column] < e_high ))\n",
    "    s = signal[m]\n",
    "\n",
    "    m = ((background[column] > e_low ) & (background[column] < e_high ))\n",
    "    b = background[m]\n",
    "    return s, b\n",
    "\n",
    "def scaling_factor(n_signal, n_background, t_signal, t_background, alpha, N=200): \n",
    "    \n",
    "    right_bound = 100\n",
    "\n",
    "    def target(scaling_factor, n_signal, n_background, sigma=5):\n",
    "        n_on = n_background*alpha + n_signal * scaling_factor\n",
    "        n_off = n_background\n",
    "        \n",
    "        significance = li_ma_significance(n_on, n_off, alpha=alpha)\n",
    "        return (5 - significance)**2\n",
    "    \n",
    "#     print(t_background, n_background, '---------', t_signal, n_signal)\n",
    "    n_signal = np.random.poisson(t_signal, size=N) * n_signal / t_signal\n",
    "    n_background = np.random.poisson(t_background, size=N) * n_background / t_background\n",
    "    \n",
    "    \n",
    "    hs = []\n",
    "    for signal, background in zip(n_signal, n_background):\n",
    "        if background == 0:\n",
    "            hs.append(np.nan)\n",
    "        else:\n",
    "            result = minimize_scalar(target, args=(signal, background), bounds=(0, right_bound), method='bounded').x\n",
    "            if np.allclose(result, right_bound):\n",
    "                result = np.nan\n",
    "            hs.append(result)\n",
    "    return np.nanpercentile(np.array(hs), (50, 5, 95))\n",
    "\n",
    "\n",
    "# regions=slice(0.015, 0.02, 0.0025), thresholds=slice(0.8, 9, 0.05)\n",
    "#regions=slice(0.0025, 0.07, 0.0025), thresholds=slice(0.3, 1, 0.05)\n",
    "def find_best_cuts(signal, background, regions=slice(0.0025, 0.08, 0.01), thresholds=slice(0.4, 1, 0.05), method='simple'):\n",
    "    \n",
    "    def significance_target(cuts, signal, background):\n",
    "        theta2, p_cut = cuts\n",
    "        n_signal, t_signal = count_events_in_region(signal, theta2=theta2, prediction_threshold=p_cut)\n",
    "\n",
    "        if method == 'exact':\n",
    "            n_background, t_background = count_events_in_region(background, theta2=theta2, prediction_threshold=p_cut)\n",
    "            alpha=1\n",
    "        elif method == 'simple':\n",
    "            n_background, t_background, alpha = count_off_events_in_region(background, theta2=theta2, prediction_threshold=p_cut)\n",
    "\n",
    "        if t_signal <= t_background*alpha  + 10:\n",
    "#             print('signal not large enough')\n",
    "            return 0\n",
    "        \n",
    "        if n_signal*5 < n_background*alpha * 0.01:\n",
    "#             print('sys problem')\n",
    "            return 0\n",
    "            \n",
    "                \n",
    "        n_on = n_signal + n_background*alpha\n",
    "        n_off = n_background\n",
    "        return -li_ma_significance(n_on, n_off, alpha=alpha)\n",
    "\n",
    "    result = brute(significance_target, ranges=[regions, thresholds], args=(signal, background), finish=None)\n",
    "    print(result)\n",
    "    return result\n",
    "\n",
    "\n",
    "def calc_relative_sensitivity(signal, background, bin_edges, use_true_energy=False, method='simple'):\n",
    "    relative_sensitivities = []\n",
    "\n",
    "    for e_low, e_high in tqdm(zip(bin_edges[:-1], bin_edges[1:])):\n",
    "        s, b = select_events_in_energy_range(signal, background, e_low, e_high, use_true_energy=use_true_energy)\n",
    "        \n",
    "        theta2, cut = find_best_cuts(s, b, method=method)\n",
    "\n",
    "        n_signal, t_signal = count_events_in_region(s, theta2=theta2, prediction_threshold=cut)\n",
    "\n",
    "        if method == 'simple':\n",
    "            n_background, t_background, alpha = count_off_events_in_region(b, theta2=theta2, prediction_threshold=cut)\n",
    "        elif method == 'exact':\n",
    "            n_background, t_background = count_events_in_region(b, theta2=theta2, prediction_threshold=cut)\n",
    "            alpha=1\n",
    "       \n",
    "        print(n_background, t_background, alpha)\n",
    "        n_on = n_background*alpha + n_signal\n",
    "        n_off = n_background\n",
    "        print(li_ma_significance(n_on, n_off, alpha))\n",
    "        rs = scaling_factor(n_signal, n_background, t_signal, t_background, alpha)\n",
    "        relative_sensitivities.append(rs)\n",
    "        \n",
    "       \n",
    "        \n",
    "    m, l, h = np.array(relative_sensitivities).T\n",
    "    d = {'sensitivity': m, 'sensitivity_low': l, 'sensitivity_high': h}\n",
    "    return pd.DataFrame(d)\n",
    "\n"
   ]
  },
  {
   "cell_type": "code",
   "execution_count": 28,
   "metadata": {
    "ExecuteTime": {
     "end_time": "2018-07-27T15:21:47.694283Z",
     "start_time": "2018-07-27T15:21:47.549911Z"
    }
   },
   "outputs": [],
   "source": [
    "def plot_sensitivity(rs, crab, bin_edges, bin_center, color='blue', **kwargs):\n",
    "    sensitivity = rs.sensitivity.values * (crab.flux(bin_center) * bin_center**2).to(u.erg / (u.s * u.cm**2))\n",
    "    sensitivity_low = rs.sensitivity_low.values * (crab.flux(bin_center) * bin_center**2).to(u.erg / (u.s * u.cm**2))\n",
    "    sensitivity_high = rs.sensitivity_high.values * (crab.flux(bin_center) * bin_center**2).to(u.erg / (u.s * u.cm**2))\n",
    "    xerr = [np.abs(bin_edges[:-1] - bin_center).value, np.abs(bin_edges[1:] - bin_center).value]\n",
    "    yerr = [np.abs(sensitivity - sensitivity_low).value, np.abs(sensitivity - sensitivity_high).value]\n",
    "    plt.errorbar(bin_center.value, sensitivity.value, xerr=xerr, yerr=yerr, linestyle='', ecolor=color, **kwargs)\n",
    "\n",
    "    plt.xscale('log')\n",
    "    plt.yscale('log')\n",
    "    plt.plot(bin_edges, crab.flux(bin_edges) * bin_edges**2, '--', color='gray')\n",
    "    plt.ylim([1E-14, 1E-9])\n",
    "    \n",
    "    path = '../resources/ascii/CTA-Performance-prod3b-v1-South-20deg-50h-DiffSens.txt'\n",
    "    df = pd.read_csv(path, delimiter='\\t\\t', skiprows=10, names=['e_min', 'e_max', 'sensitivity'], engine='python')\n",
    "    bin_edges = sorted(list(set(df.e_min) | set(df.e_max))) * u.TeV\n",
    "    bin_center = np.sqrt(bin_edges[:-1] * bin_edges[1:])\n",
    "    sensitivity = df.sensitivity.values * u.erg/(u.cm**2 * u.s)\n",
    "\n",
    "    xerr = [np.abs(bin_edges[:-1] - bin_center).value, np.abs(bin_edges[1:] - bin_center).value]\n",
    "    plt.errorbar(bin_center.value, sensitivity.value, xerr=xerr, linestyle='', color='black',)\n",
    "\n",
    "    \n",
    "    path = '../resources/sensitivity_requirement_south_50.txt'\n",
    "    df = pd.read_csv(path, delim_whitespace=True, names=['log_energy', 'sensitivity'], index_col=False,  engine='python')\n",
    "    df['energy'] = 10**df.log_energy\n",
    "    plt.plot(df.energy, df.sensitivity, color='gray')\n",
    "    \n",
    "    plt.plot(df.energy, df.sensitivity * 3, color='lightgray', linestyle='--')\n",
    "    \n",
    "    plt.ylabel(r'$ E^2 \\cdot \\mathrm{photons} \\quad \\mathrm{erg} /( \\mathrm{s} \\quad  \\mathrm{cm}^2$ )  in ' + str(t_obs.to('h')) )\n",
    "    plt.xlabel(r'$E /  \\mathrm{TeV}$')\n"
   ]
  },
  {
   "cell_type": "code",
   "execution_count": 29,
   "metadata": {
    "ExecuteTime": {
     "end_time": "2018-07-27T15:23:39.270461Z",
     "start_time": "2018-07-27T15:22:40.364735Z"
    },
    "scrolled": true
   },
   "outputs": [
    {
     "name": "stderr",
     "output_type": "stream",
     "text": [
      "\r",
      "0it [00:00, ?it/s]"
     ]
    },
    {
     "name": "stdout",
     "output_type": "stream",
     "text": [
      "[0.0625 0.9   ]\n",
      "39350269.7078944 19682 0.0625\n",
      "346.41631861890266\n"
     ]
    },
    {
     "name": "stderr",
     "output_type": "stream",
     "text": [
      "\r",
      "1it [00:01,  1.82s/it]"
     ]
    },
    {
     "name": "stdout",
     "output_type": "stream",
     "text": [
      "[0.0425 0.9   ]\n",
      "7944516.280765319 4852 0.0425\n",
      "339.8420845881094\n"
     ]
    },
    {
     "name": "stderr",
     "output_type": "stream",
     "text": [
      "\r",
      "2it [00:03,  1.66s/it]"
     ]
    },
    {
     "name": "stdout",
     "output_type": "stream",
     "text": [
      "[0.0325 0.85  ]\n",
      "11581770.674139332 8759 0.0325\n",
      "455.91421712503114\n"
     ]
    },
    {
     "name": "stderr",
     "output_type": "stream",
     "text": [
      "\r",
      "3it [00:05,  1.78s/it]"
     ]
    },
    {
     "name": "stdout",
     "output_type": "stream",
     "text": [
      "[0.0225 0.85  ]\n",
      "5431684.712716152 5087 0.0225\n",
      "560.2334343920257\n"
     ]
    },
    {
     "name": "stderr",
     "output_type": "stream",
     "text": [
      "\r",
      "4it [00:07,  1.98s/it]"
     ]
    },
    {
     "name": "stdout",
     "output_type": "stream",
     "text": [
      "[0.0225 0.85  ]\n",
      "1264883.9953998828 1448 0.0225\n",
      "625.1700071696573\n"
     ]
    },
    {
     "name": "stderr",
     "output_type": "stream",
     "text": [
      "\r",
      "5it [00:10,  2.04s/it]"
     ]
    },
    {
     "name": "stdout",
     "output_type": "stream",
     "text": [
      "[0.0125 0.85  ]\n",
      "252967.10183546686 353 0.0125\n",
      "598.0546346464705\n"
     ]
    },
    {
     "name": "stderr",
     "output_type": "stream",
     "text": [
      "\r",
      "6it [00:11,  1.99s/it]"
     ]
    },
    {
     "name": "stdout",
     "output_type": "stream",
     "text": [
      "[0.0125 0.85  ]\n",
      "322904.6992840021 595 0.0125\n",
      "577.7346507357366\n"
     ]
    },
    {
     "name": "stderr",
     "output_type": "stream",
     "text": [
      "\r",
      "7it [00:13,  1.97s/it]"
     ]
    },
    {
     "name": "stdout",
     "output_type": "stream",
     "text": [
      "[0.0125 0.8   ]\n",
      "472031.0423189703 1248 0.0125\n",
      "459.5996058609674\n"
     ]
    },
    {
     "name": "stderr",
     "output_type": "stream",
     "text": [
      "\r",
      "8it [00:15,  1.94s/it]"
     ]
    },
    {
     "name": "stdout",
     "output_type": "stream",
     "text": [
      "[0.0125 0.8   ]\n",
      "361375.8220869632 1186 0.0125\n",
      "367.32132186861276\n"
     ]
    },
    {
     "name": "stderr",
     "output_type": "stream",
     "text": [
      "\r",
      "9it [00:17,  1.91s/it]"
     ]
    },
    {
     "name": "stdout",
     "output_type": "stream",
     "text": [
      "[0.0125 0.75  ]\n",
      "212554.13609277396 857 0.0125\n",
      "312.17231159163845\n"
     ]
    },
    {
     "name": "stderr",
     "output_type": "stream",
     "text": [
      "\r",
      "10it [00:18,  1.85s/it]"
     ]
    },
    {
     "name": "stdout",
     "output_type": "stream",
     "text": [
      "[0.0125 0.75  ]\n",
      "73646.02359958026 388 0.0125\n",
      "268.9565711902876\n"
     ]
    },
    {
     "name": "stderr",
     "output_type": "stream",
     "text": [
      "\r",
      "11it [00:19,  1.79s/it]"
     ]
    },
    {
     "name": "stdout",
     "output_type": "stream",
     "text": [
      "[0.0125 0.75  ]\n",
      "26002.684712195747 181 0.0125\n",
      "202.96349331895337\n"
     ]
    },
    {
     "name": "stderr",
     "output_type": "stream",
     "text": [
      "\r",
      "12it [00:20,  1.74s/it]"
     ]
    },
    {
     "name": "stdout",
     "output_type": "stream",
     "text": [
      "[0.0025 0.75  ]\n",
      "10569.926314835879 105 0.0025\n",
      "157.84717950322826\n"
     ]
    },
    {
     "name": "stderr",
     "output_type": "stream",
     "text": [
      "\r",
      "13it [00:21,  1.69s/it]"
     ]
    },
    {
     "name": "stdout",
     "output_type": "stream",
     "text": [
      "[0.0025 0.75  ]\n",
      "4855.351367569117 63 0.0025\n",
      "123.64400734179698\n"
     ]
    },
    {
     "name": "stderr",
     "output_type": "stream",
     "text": [
      "\r",
      "14it [00:22,  1.64s/it]"
     ]
    },
    {
     "name": "stdout",
     "output_type": "stream",
     "text": [
      "[0.0025 0.75  ]\n",
      "1191.557569707647 26 0.0025\n",
      "93.65616956818467\n"
     ]
    },
    {
     "name": "stderr",
     "output_type": "stream",
     "text": [
      "\r",
      "15it [00:24,  1.60s/it]"
     ]
    },
    {
     "name": "stdout",
     "output_type": "stream",
     "text": [
      "[0.0025 0.75  ]\n",
      "602.4088923879441 21 0.0025\n",
      "64.02128607204068\n"
     ]
    },
    {
     "name": "stderr",
     "output_type": "stream",
     "text": [
      "\r",
      "16it [00:25,  1.56s/it]"
     ]
    },
    {
     "name": "stdout",
     "output_type": "stream",
     "text": [
      "[0.0025 0.75  ]\n",
      "119.12210269187916 7 0.0025\n",
      "48.324117985186724\n"
     ]
    },
    {
     "name": "stderr",
     "output_type": "stream",
     "text": [
      "\r",
      "17it [00:25,  1.52s/it]"
     ]
    },
    {
     "name": "stdout",
     "output_type": "stream",
     "text": [
      "[0.0025 0.7   ]\n",
      "35.570434422140536 3 0.0025\n",
      "35.54005604022947\n"
     ]
    },
    {
     "name": "stderr",
     "output_type": "stream",
     "text": [
      "\r",
      "18it [00:26,  1.48s/it]"
     ]
    },
    {
     "name": "stdout",
     "output_type": "stream",
     "text": [
      "[0.0025 0.75  ]\n",
      "13.582218544993085 1 0.0025\n",
      "22.930489623222687\n"
     ]
    },
    {
     "name": "stderr",
     "output_type": "stream",
     "text": [
      "\r",
      "19it [00:27,  1.43s/it]"
     ]
    },
    {
     "name": "stdout",
     "output_type": "stream",
     "text": [
      "[0.0025 0.75  ]\n",
      "26.176235218992048 3 0.0025\n",
      "12.414809882510372\n"
     ]
    },
    {
     "name": "stderr",
     "output_type": "stream",
     "text": [
      "20it [00:27,  1.40s/it]\n",
      "0it [00:00, ?it/s]"
     ]
    },
    {
     "name": "stdout",
     "output_type": "stream",
     "text": [
      "[0.0625 0.9   ]\n",
      "2298063.572455613 1137 1\n",
      "256.1147804708156\n"
     ]
    },
    {
     "name": "stderr",
     "output_type": "stream",
     "text": [
      "\r",
      "1it [00:01,  1.11s/it]"
     ]
    },
    {
     "name": "stdout",
     "output_type": "stream",
     "text": [
      "[0.0425 0.9   ]\n",
      "359937.14589381986 217 1\n",
      "229.63985401098282\n"
     ]
    },
    {
     "name": "stderr",
     "output_type": "stream",
     "text": [
      "\r",
      "2it [00:02,  1.17s/it]"
     ]
    },
    {
     "name": "stdout",
     "output_type": "stream",
     "text": [
      "[0.0325 0.8   ]\n",
      "615372.9707656603 484 1\n",
      "299.7160784949832\n"
     ]
    },
    {
     "name": "stderr",
     "output_type": "stream",
     "text": [
      "\r",
      "3it [00:03,  1.31s/it]"
     ]
    },
    {
     "name": "stdout",
     "output_type": "stream",
     "text": [
      "[0.0325 0.85  ]\n",
      "170207.4955526105 162 1\n",
      "368.7069329444128\n"
     ]
    },
    {
     "name": "stderr",
     "output_type": "stream",
     "text": [
      "\r",
      "4it [00:06,  1.62s/it]"
     ]
    },
    {
     "name": "stdout",
     "output_type": "stream",
     "text": [
      "[0.0225 0.85  ]\n",
      "32193.990048558364 34 1\n",
      "362.99772017046996\n"
     ]
    },
    {
     "name": "stderr",
     "output_type": "stream",
     "text": [
      "\r",
      "5it [00:08,  1.78s/it]"
     ]
    },
    {
     "name": "stdout",
     "output_type": "stream",
     "text": [
      "[0.0325 0.8   ]\n",
      "19805.148038693456 29 1\n",
      "325.69258727639914\n"
     ]
    },
    {
     "name": "stderr",
     "output_type": "stream",
     "text": [
      "\r",
      "6it [00:10,  1.79s/it]"
     ]
    },
    {
     "name": "stdout",
     "output_type": "stream",
     "text": [
      "[0.0325 0.75  ]\n",
      "37288.218569802586 68 1\n",
      "315.33307723673073\n"
     ]
    },
    {
     "name": "stderr",
     "output_type": "stream",
     "text": [
      "\r",
      "7it [00:12,  1.80s/it]"
     ]
    },
    {
     "name": "stdout",
     "output_type": "stream",
     "text": [
      "[0.0225 0.8   ]\n",
      "10472.841896994276 29 1\n",
      "262.1072046230377\n"
     ]
    },
    {
     "name": "stderr",
     "output_type": "stream",
     "text": [
      "\r",
      "8it [00:14,  1.80s/it]"
     ]
    },
    {
     "name": "stdout",
     "output_type": "stream",
     "text": [
      "[0.0225 0.75  ]\n",
      "8009.302331894056 30 1\n",
      "220.36388158095917\n"
     ]
    },
    {
     "name": "stderr",
     "output_type": "stream",
     "text": [
      "\r",
      "9it [00:15,  1.77s/it]"
     ]
    },
    {
     "name": "stdout",
     "output_type": "stream",
     "text": [
      "[0.0125 0.65  ]\n",
      "3753.2049587338515 17 1\n",
      "173.3883281700213\n"
     ]
    },
    {
     "name": "stderr",
     "output_type": "stream",
     "text": [
      "\r",
      "10it [00:17,  1.74s/it]"
     ]
    },
    {
     "name": "stdout",
     "output_type": "stream",
     "text": [
      "[0.0125 0.65  ]\n",
      "825.4031267335033 6 1\n",
      "149.5185146064344\n"
     ]
    },
    {
     "name": "stderr",
     "output_type": "stream",
     "text": [
      "\r",
      "11it [00:18,  1.71s/it]"
     ]
    },
    {
     "name": "stdout",
     "output_type": "stream",
     "text": [
      "[0.0225 0.75  ]\n",
      "371.7404823701604 3 1\n",
      "104.7074024548287\n"
     ]
    },
    {
     "name": "stderr",
     "output_type": "stream",
     "text": [
      "\r",
      "12it [00:20,  1.68s/it]"
     ]
    },
    {
     "name": "stdout",
     "output_type": "stream",
     "text": [
      "[0.0125 0.6   ]\n",
      "344.06965689787387 4 1\n",
      "75.59095495454432\n"
     ]
    },
    {
     "name": "stderr",
     "output_type": "stream",
     "text": [
      "\r",
      "13it [00:21,  1.65s/it]"
     ]
    },
    {
     "name": "stdout",
     "output_type": "stream",
     "text": [
      "[0.0125 0.65  ]\n",
      "60.67261772679084 1 1\n",
      "58.58503477678483\n"
     ]
    },
    {
     "name": "stderr",
     "output_type": "stream",
     "text": [
      "\r",
      "14it [00:22,  1.62s/it]"
     ]
    },
    {
     "name": "stdout",
     "output_type": "stream",
     "text": [
      "[0.0425 0.75  ]\n",
      "18.62447440162494 1 1\n",
      "40.03566629765025\n"
     ]
    },
    {
     "name": "stderr",
     "output_type": "stream",
     "text": [
      "\r",
      "15it [00:23,  1.58s/it]"
     ]
    },
    {
     "name": "stdout",
     "output_type": "stream",
     "text": [
      "[0.0225 0.55  ]\n",
      "43.426168910339555 2 1\n",
      "27.0947402690638\n"
     ]
    },
    {
     "name": "stderr",
     "output_type": "stream",
     "text": [
      "\r",
      "16it [00:24,  1.55s/it]"
     ]
    },
    {
     "name": "stdout",
     "output_type": "stream",
     "text": [
      "[0.0725 0.7   ]\n",
      "6.6259288738614455 1 1\n",
      "19.154284101341833\n"
     ]
    },
    {
     "name": "stderr",
     "output_type": "stream",
     "text": [
      "\r",
      "17it [00:25,  1.50s/it]"
     ]
    },
    {
     "name": "stdout",
     "output_type": "stream",
     "text": [
      "[0.0125 0.4   ]\n",
      "12.900014866056054 1 1\n",
      "12.416237108768355\n"
     ]
    },
    {
     "name": "stderr",
     "output_type": "stream",
     "text": [
      "19it [00:26,  1.41s/it]"
     ]
    },
    {
     "name": "stdout",
     "output_type": "stream",
     "text": [
      "[0.0725 0.45  ]\n",
      "13.350659840313847 1 1\n",
      "6.982559506866396\n"
     ]
    },
    {
     "name": "stderr",
     "output_type": "stream",
     "text": [
      "\r",
      "20it [00:27,  1.37s/it]"
     ]
    },
    {
     "name": "stdout",
     "output_type": "stream",
     "text": [
      "[0.0425 0.4   ]\n",
      "5.059702032633296 1 1\n",
      "3.806477107069568\n"
     ]
    },
    {
     "name": "stderr",
     "output_type": "stream",
     "text": [
      "\n",
      "0it [00:00, ?it/s]"
     ]
    },
    {
     "name": "stdout",
     "output_type": "stream",
     "text": [
      "[0.0525 0.9   ]\n",
      "7813943.315556491 4135 0.052500000000000005\n",
      "268.08025984717887\n"
     ]
    },
    {
     "name": "stderr",
     "output_type": "stream",
     "text": [
      "\r",
      "1it [00:01,  1.16s/it]"
     ]
    },
    {
     "name": "stdout",
     "output_type": "stream",
     "text": [
      "[0.0325 0.9   ]\n",
      "5893873.596755961 3651 0.0325\n",
      "321.27370448502234\n"
     ]
    },
    {
     "name": "stderr",
     "output_type": "stream",
     "text": [
      "\r",
      "2it [00:02,  1.13s/it]"
     ]
    },
    {
     "name": "stdout",
     "output_type": "stream",
     "text": [
      "[0.0325 0.9   ]\n",
      "5370377.746044929 3954 0.0325\n",
      "455.03260520282464\n"
     ]
    },
    {
     "name": "stderr",
     "output_type": "stream",
     "text": [
      "\r",
      "3it [00:03,  1.14s/it]"
     ]
    },
    {
     "name": "stdout",
     "output_type": "stream",
     "text": [
      "[0.0225 0.9   ]\n",
      "2172881.844532265 1963 0.0225\n",
      "556.1219589475251\n"
     ]
    },
    {
     "name": "stderr",
     "output_type": "stream",
     "text": [
      "\r",
      "4it [00:04,  1.20s/it]"
     ]
    },
    {
     "name": "stdout",
     "output_type": "stream",
     "text": [
      "[0.0125 0.9   ]\n",
      "419259.11857284256 466 0.0125\n",
      "621.7871277253254\n"
     ]
    },
    {
     "name": "stderr",
     "output_type": "stream",
     "text": [
      "\r",
      "5it [00:06,  1.25s/it]"
     ]
    },
    {
     "name": "stdout",
     "output_type": "stream",
     "text": [
      "[0.0125 0.85  ]\n",
      "145153.98607805304 204 0.0125\n",
      "591.7936010291224\n"
     ]
    },
    {
     "name": "stderr",
     "output_type": "stream",
     "text": [
      "\r",
      "6it [00:07,  1.30s/it]"
     ]
    },
    {
     "name": "stdout",
     "output_type": "stream",
     "text": [
      "[0.0125 0.8   ]\n",
      "141772.29030322685 248 0.0125\n",
      "624.7027057258742\n"
     ]
    },
    {
     "name": "stderr",
     "output_type": "stream",
     "text": [
      "\r",
      "7it [00:09,  1.31s/it]"
     ]
    },
    {
     "name": "stdout",
     "output_type": "stream",
     "text": [
      "[0.0125 0.8   ]\n",
      "53813.72210996694 131 0.0125\n",
      "505.4845906304129\n"
     ]
    },
    {
     "name": "stderr",
     "output_type": "stream",
     "text": [
      "\r",
      "8it [00:10,  1.34s/it]"
     ]
    },
    {
     "name": "stdout",
     "output_type": "stream",
     "text": [
      "[0.0125 0.8   ]\n",
      "24695.352755390602 88 0.0125\n",
      "419.72288787581806\n"
     ]
    },
    {
     "name": "stderr",
     "output_type": "stream",
     "text": [
      "\r",
      "9it [00:11,  1.32s/it]"
     ]
    },
    {
     "name": "stdout",
     "output_type": "stream",
     "text": [
      "[0.0125 0.75  ]\n",
      "26426.667998721845 132 0.0125\n",
      "351.9866217645368\n"
     ]
    },
    {
     "name": "stderr",
     "output_type": "stream",
     "text": [
      "\r",
      "10it [00:13,  1.32s/it]"
     ]
    },
    {
     "name": "stdout",
     "output_type": "stream",
     "text": [
      "[0.0125 0.75  ]\n",
      "12189.15701665166 79 0.0125\n",
      "297.38509126450833\n"
     ]
    },
    {
     "name": "stderr",
     "output_type": "stream",
     "text": [
      "\r",
      "11it [00:14,  1.33s/it]"
     ]
    },
    {
     "name": "stdout",
     "output_type": "stream",
     "text": [
      "[0.0025 0.75  ]\n",
      "6281.4390847216355 55 0.0025\n",
      "218.824532772566\n"
     ]
    },
    {
     "name": "stderr",
     "output_type": "stream",
     "text": [
      "\r",
      "12it [00:15,  1.31s/it]"
     ]
    },
    {
     "name": "stdout",
     "output_type": "stream",
     "text": [
      "[0.0025 0.75  ]\n",
      "3337.176510668272 41 0.0025\n",
      "166.47668962184903\n"
     ]
    },
    {
     "name": "stderr",
     "output_type": "stream",
     "text": [
      "\r",
      "13it [00:16,  1.28s/it]"
     ]
    },
    {
     "name": "stdout",
     "output_type": "stream",
     "text": [
      "[0.0025 0.8   ]\n",
      "676.7130998461646 12 0.0025\n",
      "130.3149421394499\n"
     ]
    },
    {
     "name": "stderr",
     "output_type": "stream",
     "text": [
      "\r",
      "14it [00:17,  1.26s/it]"
     ]
    },
    {
     "name": "stdout",
     "output_type": "stream",
     "text": [
      "[0.0025 0.75  ]\n",
      "386.1657297970795 9 0.0025\n",
      "98.0233539937924\n"
     ]
    },
    {
     "name": "stderr",
     "output_type": "stream",
     "text": [
      "\r",
      "15it [00:18,  1.23s/it]"
     ]
    },
    {
     "name": "stdout",
     "output_type": "stream",
     "text": [
      "[0.0025 0.75  ]\n",
      "159.67327876326254 6 0.0025\n",
      "68.32391828341903\n"
     ]
    },
    {
     "name": "stderr",
     "output_type": "stream",
     "text": [
      "\r",
      "16it [00:19,  1.21s/it]"
     ]
    },
    {
     "name": "stdout",
     "output_type": "stream",
     "text": [
      "[0.0025 0.75  ]\n",
      "61.462115087099036 4 0.0025\n",
      "49.321043402074224\n"
     ]
    },
    {
     "name": "stderr",
     "output_type": "stream",
     "text": [
      "\r",
      "17it [00:20,  1.19s/it]"
     ]
    },
    {
     "name": "stdout",
     "output_type": "stream",
     "text": [
      "[0.0025 0.7   ]\n",
      "30.750039460545253 2 0.0025\n",
      "35.58329753427698\n"
     ]
    },
    {
     "name": "stderr",
     "output_type": "stream",
     "text": [
      "\r",
      "18it [00:21,  1.17s/it]"
     ]
    },
    {
     "name": "stdout",
     "output_type": "stream",
     "text": [
      "[0.0025 0.75  ]\n",
      "13.582218544993085 1 0.0025\n",
      "22.930489623222687\n"
     ]
    },
    {
     "name": "stderr",
     "output_type": "stream",
     "text": [
      "\r",
      "19it [00:21,  1.14s/it]"
     ]
    },
    {
     "name": "stdout",
     "output_type": "stream",
     "text": [
      "[0.0025 0.75  ]\n",
      "26.176235218992048 3 0.0025\n",
      "12.414809882510372\n"
     ]
    },
    {
     "name": "stderr",
     "output_type": "stream",
     "text": [
      "20it [00:22,  1.12s/it]\n"
     ]
    }
   ],
   "source": [
    "rs_simple = calc_relative_sensitivity(gammas, protons, bin_edges, method='simple')\n",
    "rs_exact = calc_relative_sensitivity(gammas, protons, bin_edges, method='exact')\n",
    "\n",
    "s = gammas.query('num_triggered_telescopes >= 4')\n",
    "b = protons.query('num_triggered_telescopes >= 4')\n",
    "rs_mult = calc_relative_sensitivity(s, b, bin_edges, method='simple')"
   ]
  },
  {
   "cell_type": "code",
   "execution_count": 30,
   "metadata": {
    "scrolled": false
   },
   "outputs": [
    {
     "data": {
      "text/plain": [
       "<matplotlib.legend.Legend at 0x7ffb305d8128>"
      ]
     },
     "execution_count": 30,
     "metadata": {},
     "output_type": "execute_result"
    },
    {
     "data": {
      "image/png": "[encoded data removed]",
      "text/plain": [
       "<Figure size 720x576 with 1 Axes>"
      ]
     },
     "metadata": {},
     "output_type": "display_data"
    }
   ],
   "source": [
    "plt.figure(figsize=(10, 8))\n",
    "\n",
    "# plot_sensitivity(rs_smooth, crab, bin_edges, bin_center, color='blue')\n",
    "\n",
    "plot_sensitivity(rs_simple, crab, bin_edges, bin_center, color='crimson', label='simple')\n",
    "plot_sensitivity(rs_mult, crab, bin_edges, bin_center, color='blue', label='mult_simple')\n",
    "plot_sensitivity(rs_exact, crab, bin_edges, bin_center, color='green', label='exact')\n",
    "plt.legend()\n",
    "\n",
    "# plot_sensitivity(rs_simple_02, crab, bin_edges, bin_center, color='blue')\n",
    "\n",
    "\n",
    "# plot_sensitivity(rs_smooth_02, crab, bin_edges, bin_center, color='navy')"
   ]
  },
  {
   "cell_type": "code",
   "execution_count": null,
   "metadata": {},
   "outputs": [],
   "source": [
    "f, (ax1, ax2) = plt.subplots(1, 2, figsize=(12, 6))\n",
    "ax1.hist(protons.mc_energy, bins=bin_edges, histtype='step', lw=2)\n",
    "ax1.hist(protons.gamma_energy_prediction_mean, bins=bin_edges, histtype='step', lw=2)\n",
    "ax1.set_yscale('log')\n",
    "ax1.set_xscale('log')\n",
    "ax1.set_title('Protons')\n",
    "ax1.set_xlabel('Energy / TeV')\n",
    "\n",
    "ax2.hist(gammas.mc_energy, bins=bin_edges, histtype='step', lw=2)\n",
    "ax2.hist(gammas.gamma_energy_prediction_mean, bins=bin_edges, histtype='step', lw=2)\n",
    "ax2.set_yscale('log')\n",
    "ax2.set_xscale('log')\n",
    "ax2.set_title('Gammas')\n",
    "ax2.set_xlabel('Energy / TeV')"
   ]
  },
  {
   "cell_type": "code",
   "execution_count": null,
   "metadata": {},
   "outputs": [],
   "source": []
  }
 ],
 "metadata": {
  "kernelspec": {
   "display_name": "Python 3",
   "language": "python",
   "name": "python3"
  },
  "language_info": {
   "codemirror_mode": {
    "name": "ipython",
    "version": 3
   },
   "file_extension": ".py",
   "mimetype": "text/x-python",
   "name": "python",
   "nbconvert_exporter": "python",
   "pygments_lexer": "ipython3",
   "version": "3.6.5"
  }
 },
 "nbformat": 4,
 "nbformat_minor": 2
}
