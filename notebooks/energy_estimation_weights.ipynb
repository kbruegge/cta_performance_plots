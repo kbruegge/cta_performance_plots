{
 "cells": [
  {
   "cell_type": "code",
   "execution_count": 15,
   "metadata": {
    "ExecuteTime": {
     "end_time": "2018-09-04T12:23:59.962911Z",
     "start_time": "2018-09-04T12:23:59.939877Z"
    },
    "collapsed": true
   },
   "outputs": [],
   "source": [
    "import fact.io\n",
    "\n",
    "import numpy as np\n",
    "import pandas as pd\n",
    "import matplotlib.pyplot as plt\n",
    "import astropy.units as u\n",
    "\n",
    "\n",
    "from astropy.coordinates import Angle\n",
    "from astropy.coordinates.angle_utilities import angular_separation\n",
    "\n",
    "from scipy.stats import binned_statistic\n",
    "from sklearn.ensemble import RandomForestRegressor, GradientBoostingRegressor\n",
    "from sklearn.model_selection import train_test_split\n",
    "from sklearn.metrics import r2_score\n",
    "\n",
    "\n",
    "\n",
    "from spectrum import make_energy_bins\n",
    "\n",
    "from tqdm import tqdm\n",
    "%matplotlib inline"
   ]
  },
  {
   "cell_type": "code",
   "execution_count": 16,
   "metadata": {
    "ExecuteTime": {
     "end_time": "2018-09-04T12:24:00.097161Z",
     "start_time": "2018-09-04T12:24:00.054380Z"
    },
    "collapsed": true
   },
   "outputs": [],
   "source": [
    "def plot_energy_resolution(e_true, e_reco, bins, ax=None, color='crimson'):\n",
    "    if not ax :\n",
    "        ax = plt.gca()\n",
    "    resolution = (e_reco) / e_true\n",
    "\n",
    "    iqr, bin_edges, binnumber = binned_statistic(e_reco, resolution, statistic=lambda y: ((np.percentile(y, 84) - np.percentile(y, 16)) / 2), bins=bins)\n",
    "\n",
    "    label = '$IQR_{68}$ of $\\\\frac{E_R - E_T}{E_T}$'\n",
    "\n",
    "    ax.hlines(iqr, bins[:-1], bins[1:], lw=2, color=color, label=label)\n",
    "\n",
    "    path = '../resources/CTA-Performance-prod3b-v1-South-20deg-50h-Eres.txt'\n",
    "    df = pd.read_csv(path, delimiter='\\t\\t', skiprows=11, names=['energy', 'resolution'], engine='python')\n",
    "    ax.plot(df.energy, df.resolution, '--', color='#5b5b5b', label='Prod3B Reference')\n",
    "\n",
    "\n",
    "    ax.set_xscale('log')\n",
    "\n",
    "    ax.set_ylabel(label)\n",
    "    ax.set_xlabel(r'$True Energy /  \\mathrm{TeV}$')\n",
    "    print(r2_score(e_true, e_reco))\n",
    "    return ax"
   ]
  },
  {
   "cell_type": "code",
   "execution_count": 17,
   "metadata": {
    "ExecuteTime": {
     "end_time": "2018-09-04T12:24:00.240170Z",
     "start_time": "2018-09-04T12:24:00.224524Z"
    },
    "collapsed": true
   },
   "outputs": [],
   "source": [
    "def calculate_theta(df, source_alt=70 * u.deg, source_az=0 * u.deg):\n",
    "    source_az = Angle(source_az).wrap_at(180 * u.deg)\n",
    "    source_alt = Angle(source_alt)\n",
    "\n",
    "    az = Angle(df.az_prediction.values, unit=u.rad).wrap_at(180*u.deg)\n",
    "    alt = Angle(df.alt_prediction.values, unit=u.rad)\n",
    "\n",
    "    return angular_separation(source_az, source_alt, az, alt).to(u.deg).value\n"
   ]
  },
  {
   "cell_type": "code",
   "execution_count": 18,
   "metadata": {
    "ExecuteTime": {
     "end_time": "2018-09-04T12:24:00.625094Z",
     "start_time": "2018-09-04T12:24:00.408101Z"
    }
   },
   "outputs": [
    {
     "data": {
      "text/plain": [
       "(Index(['camera_id', 'camera_name', 'distance_to_core', 'focal_length',\n",
       "        'intensity', 'kurtosis', 'leakage_intensity1', 'leakage_intensity2',\n",
       "        'leakage_pixel1', 'leakage_pixel2', 'length', 'mirror_area', 'phi',\n",
       "        'pointing_altitude', 'pointing_azimuth', 'psi', 'r', 'skewness',\n",
       "        'telescope_id', 'telescope_type_id', 'telescope_type_name', 'width',\n",
       "        'x', 'y'],\n",
       "       dtype='object'),\n",
       " Index(['alt_prediction', 'az_prediction', 'core_x_prediction',\n",
       "        'core_y_prediction', 'h_max_prediction', 'mc_alt', 'mc_az', 'mc_core_x',\n",
       "        'mc_core_y', 'mc_corsika_primary_id', 'mc_energy',\n",
       "        'mc_height_first_interaction', 'mc_x_max', 'num_triggered_lst',\n",
       "        'num_triggered_mst', 'num_triggered_sst', 'num_triggered_telescopes',\n",
       "        'total_intensity', 'theta'],\n",
       "       dtype='object'))"
      ]
     },
     "execution_count": 18,
     "metadata": {},
     "output_type": "execute_result"
    }
   ],
   "source": [
    "n_bins = 20\n",
    "\n",
    "gamma_input = '../../cta_preprocessing/gammas.hdf5'\n",
    "\n",
    "e_min, e_max = 0.02 * u.TeV, 200 * u.TeV\n",
    "bin_edges, bin_center, bin_width = make_energy_bins(e_min=e_min, e_max=e_max, bins=n_bins, centering='log')\n",
    "\n",
    "gammas = fact.io.read_data(gamma_input, key='array_events',).set_index(['run_id', 'array_event_id'])\n",
    "gammas['theta'] = calculate_theta(gammas)\n",
    "\n",
    "gamma_tel_events = fact.io.read_data(gamma_input, key='telescope_events').set_index(['run_id', 'array_event_id'])\n",
    "gamma_tel_events.columns, gammas.columns"
   ]
  },
  {
   "cell_type": "code",
   "execution_count": 28,
   "metadata": {
    "ExecuteTime": {
     "end_time": "2018-09-04T12:28:39.613150Z",
     "start_time": "2018-09-04T12:28:39.515946Z"
    },
    "scrolled": true
   },
   "outputs": [
    {
     "data": {
      "text/html": [
       "<div>\n",
       "<style scoped>\n",
       "    .dataframe tbody tr th:only-of-type {\n",
       "        vertical-align: middle;\n",
       "    }\n",
       "\n",
       "    .dataframe tbody tr th {\n",
       "        vertical-align: top;\n",
       "    }\n",
       "\n",
       "    .dataframe thead th {\n",
       "        text-align: right;\n",
       "    }\n",
       "</style>\n",
       "<table border=\"1\" class=\"dataframe\">\n",
       "  <thead>\n",
       "    <tr style=\"text-align: right;\">\n",
       "      <th></th>\n",
       "      <th></th>\n",
       "      <th>telescope_type_name</th>\n",
       "      <th>distance_to_core</th>\n",
       "      <th>r_over_f</th>\n",
       "      <th>focal_length</th>\n",
       "      <th>intensity</th>\n",
       "      <th>kurtosis</th>\n",
       "      <th>length</th>\n",
       "      <th>psi</th>\n",
       "      <th>r</th>\n",
       "      <th>skewness</th>\n",
       "      <th>telescope_type_id</th>\n",
       "      <th>width</th>\n",
       "      <th>mc_energy</th>\n",
       "      <th>num_triggered_lst</th>\n",
       "      <th>num_triggered_mst</th>\n",
       "      <th>num_triggered_sst</th>\n",
       "      <th>num_triggered_telescopes</th>\n",
       "      <th>total_intensity</th>\n",
       "    </tr>\n",
       "    <tr>\n",
       "      <th>run_id</th>\n",
       "      <th>array_event_id</th>\n",
       "      <th></th>\n",
       "      <th></th>\n",
       "      <th></th>\n",
       "      <th></th>\n",
       "      <th></th>\n",
       "      <th></th>\n",
       "      <th></th>\n",
       "      <th></th>\n",
       "      <th></th>\n",
       "      <th></th>\n",
       "      <th></th>\n",
       "      <th></th>\n",
       "      <th></th>\n",
       "      <th></th>\n",
       "      <th></th>\n",
       "      <th></th>\n",
       "      <th></th>\n",
       "      <th></th>\n",
       "    </tr>\n",
       "  </thead>\n",
       "  <tbody>\n",
       "    <tr>\n",
       "      <th rowspan=\"5\" valign=\"top\">501</th>\n",
       "      <th>2504</th>\n",
       "      <td>LST</td>\n",
       "      <td>326.616811</td>\n",
       "      <td>0.036242</td>\n",
       "      <td>28.0</td>\n",
       "      <td>128.531682</td>\n",
       "      <td>1.652018</td>\n",
       "      <td>0.071909</td>\n",
       "      <td>1.113198</td>\n",
       "      <td>1.014772</td>\n",
       "      <td>-0.090333</td>\n",
       "      <td>1</td>\n",
       "      <td>0.032225</td>\n",
       "      <td>0.573733</td>\n",
       "      <td>1</td>\n",
       "      <td>5</td>\n",
       "      <td>1</td>\n",
       "      <td>8</td>\n",
       "      <td>1982.058854</td>\n",
       "    </tr>\n",
       "    <tr>\n",
       "      <th>2504</th>\n",
       "      <td>MST</td>\n",
       "      <td>231.959378</td>\n",
       "      <td>0.025855</td>\n",
       "      <td>16.0</td>\n",
       "      <td>101.339443</td>\n",
       "      <td>1.717688</td>\n",
       "      <td>0.080775</td>\n",
       "      <td>0.884527</td>\n",
       "      <td>0.413673</td>\n",
       "      <td>-0.298052</td>\n",
       "      <td>2</td>\n",
       "      <td>0.031893</td>\n",
       "      <td>0.573733</td>\n",
       "      <td>1</td>\n",
       "      <td>5</td>\n",
       "      <td>1</td>\n",
       "      <td>8</td>\n",
       "      <td>1982.058854</td>\n",
       "    </tr>\n",
       "    <tr>\n",
       "      <th>2504</th>\n",
       "      <td>MST</td>\n",
       "      <td>295.130766</td>\n",
       "      <td>0.026850</td>\n",
       "      <td>16.0</td>\n",
       "      <td>216.689600</td>\n",
       "      <td>2.054374</td>\n",
       "      <td>0.106433</td>\n",
       "      <td>1.333529</td>\n",
       "      <td>0.429599</td>\n",
       "      <td>-0.059919</td>\n",
       "      <td>2</td>\n",
       "      <td>0.025460</td>\n",
       "      <td>0.573733</td>\n",
       "      <td>1</td>\n",
       "      <td>5</td>\n",
       "      <td>1</td>\n",
       "      <td>8</td>\n",
       "      <td>1982.058854</td>\n",
       "    </tr>\n",
       "    <tr>\n",
       "      <th>2504</th>\n",
       "      <td>MST</td>\n",
       "      <td>99.857366</td>\n",
       "      <td>0.024542</td>\n",
       "      <td>16.0</td>\n",
       "      <td>242.875687</td>\n",
       "      <td>3.189926</td>\n",
       "      <td>0.101683</td>\n",
       "      <td>-2.758073</td>\n",
       "      <td>0.392670</td>\n",
       "      <td>-0.632174</td>\n",
       "      <td>2</td>\n",
       "      <td>0.029458</td>\n",
       "      <td>0.573733</td>\n",
       "      <td>1</td>\n",
       "      <td>5</td>\n",
       "      <td>1</td>\n",
       "      <td>8</td>\n",
       "      <td>1982.058854</td>\n",
       "    </tr>\n",
       "    <tr>\n",
       "      <th>2504</th>\n",
       "      <td>MST</td>\n",
       "      <td>170.219947</td>\n",
       "      <td>0.019896</td>\n",
       "      <td>16.0</td>\n",
       "      <td>402.082011</td>\n",
       "      <td>2.682321</td>\n",
       "      <td>0.076241</td>\n",
       "      <td>2.138840</td>\n",
       "      <td>0.318342</td>\n",
       "      <td>-0.412902</td>\n",
       "      <td>2</td>\n",
       "      <td>0.027797</td>\n",
       "      <td>0.573733</td>\n",
       "      <td>1</td>\n",
       "      <td>5</td>\n",
       "      <td>1</td>\n",
       "      <td>8</td>\n",
       "      <td>1982.058854</td>\n",
       "    </tr>\n",
       "  </tbody>\n",
       "</table>\n",
       "</div>"
      ],
      "text/plain": [
       "                      telescope_type_name  distance_to_core  r_over_f  \\\n",
       "run_id array_event_id                                                   \n",
       "501    2504                           LST        326.616811  0.036242   \n",
       "       2504                           MST        231.959378  0.025855   \n",
       "       2504                           MST        295.130766  0.026850   \n",
       "       2504                           MST         99.857366  0.024542   \n",
       "       2504                           MST        170.219947  0.019896   \n",
       "\n",
       "                       focal_length   intensity  kurtosis    length       psi  \\\n",
       "run_id array_event_id                                                           \n",
       "501    2504                    28.0  128.531682  1.652018  0.071909  1.113198   \n",
       "       2504                    16.0  101.339443  1.717688  0.080775  0.884527   \n",
       "       2504                    16.0  216.689600  2.054374  0.106433  1.333529   \n",
       "       2504                    16.0  242.875687  3.189926  0.101683 -2.758073   \n",
       "       2504                    16.0  402.082011  2.682321  0.076241  2.138840   \n",
       "\n",
       "                              r  skewness  telescope_type_id     width  \\\n",
       "run_id array_event_id                                                    \n",
       "501    2504            1.014772 -0.090333                  1  0.032225   \n",
       "       2504            0.413673 -0.298052                  2  0.031893   \n",
       "       2504            0.429599 -0.059919                  2  0.025460   \n",
       "       2504            0.392670 -0.632174                  2  0.029458   \n",
       "       2504            0.318342 -0.412902                  2  0.027797   \n",
       "\n",
       "                       mc_energy  num_triggered_lst  num_triggered_mst  \\\n",
       "run_id array_event_id                                                    \n",
       "501    2504             0.573733                  1                  5   \n",
       "       2504             0.573733                  1                  5   \n",
       "       2504             0.573733                  1                  5   \n",
       "       2504             0.573733                  1                  5   \n",
       "       2504             0.573733                  1                  5   \n",
       "\n",
       "                       num_triggered_sst  num_triggered_telescopes  \\\n",
       "run_id array_event_id                                                \n",
       "501    2504                            1                         8   \n",
       "       2504                            1                         8   \n",
       "       2504                            1                         8   \n",
       "       2504                            1                         8   \n",
       "       2504                            1                         8   \n",
       "\n",
       "                       total_intensity  \n",
       "run_id array_event_id                   \n",
       "501    2504                1982.058854  \n",
       "       2504                1982.058854  \n",
       "       2504                1982.058854  \n",
       "       2504                1982.058854  \n",
       "       2504                1982.058854  "
      ]
     },
     "execution_count": 28,
     "metadata": {},
     "output_type": "execute_result"
    }
   ],
   "source": [
    "col_ar = ['num_triggered_lst', 'num_triggered_mst', 'num_triggered_sst', 'num_triggered_telescopes', 'total_intensity']\n",
    "col_tel = ['distance_to_core', 'r_over_f', 'focal_length', 'intensity',\n",
    "           'kurtosis', 'length', 'psi', 'r', 'skewness', 'telescope_type_id', 'width', \n",
    "#            'l1_over_f', 'l2_over_f', 'li1_over_f', 'li2_over_f', 'leakage_pixel1', 'leakage_pixel2', \n",
    "#            'leakage_intensity1', 'leakage_intensity2',\n",
    "          ]\n",
    "\n",
    "\n",
    "gamma_tel_events['r_over_f'] = gamma_tel_events.r / gamma_tel_events.focal_length\n",
    "# gamma_tel_events['l1_over_f'] = gamma_tel_events.leakage_pixel1 / gamma_tel_events.focal_length\n",
    "# gamma_tel_events['l2_over_f'] = gamma_tel_events.leakage_pixel2 / gamma_tel_events.focal_length\n",
    "# gamma_tel_events['li1_over_f'] = gamma_tel_events.leakage_intensity1 / gamma_tel_events.focal_length\n",
    "# gamma_tel_events['li2_over_f'] = gamma_tel_events.leakage_intensity2 / gamma_tel_events.focal_length\n",
    "\n",
    "cols = ['mc_energy'] + col_ar\n",
    "df = gamma_tel_events[['telescope_type_name'] + col_tel].merge(gammas[cols], left_index=True, right_index=True).dropna()\n",
    "df.head()\n",
    "# df = df.query('num_triggered_telescopes >= 5')"
   ]
  },
  {
   "cell_type": "code",
   "execution_count": 29,
   "metadata": {
    "ExecuteTime": {
     "end_time": "2018-09-04T12:28:42.340103Z",
     "start_time": "2018-09-04T12:28:39.651042Z"
    }
   },
   "outputs": [
    {
     "name": "stdout",
     "output_type": "stream",
     "text": [
      "(8165, 16) (8165,)\n"
     ]
    },
    {
     "name": "stderr",
     "output_type": "stream",
     "text": [
      "/usr/local/lib/python3.6/site-packages/ipykernel_launcher.py:9: RuntimeWarning: invalid value encountered in log10\n",
      "  if __name__ == '__main__':\n"
     ]
    },
    {
     "data": {
      "text/plain": [
       "<matplotlib.axes._subplots.AxesSubplot at 0x11cb68f60>"
      ]
     },
     "execution_count": 29,
     "metadata": {},
     "output_type": "execute_result"
    },
    {
     "data": {
      "image/png": "[encoded data removed]",
      "text/plain": [
       "<Figure size 576x576 with 1 Axes>"
      ]
     },
     "metadata": {},
     "output_type": "display_data"
    }
   ],
   "source": [
    "X_train, X_test, y_train, y_test = train_test_split(df[col_ar + col_tel], df.mc_energy, test_size=0.33, shuffle=False)\n",
    "\n",
    "print(X_train.shape, y_train.shape)\n",
    "rf = RandomForestRegressor(n_estimators=250, min_samples_leaf=4, n_jobs=20, max_features='sqrt')\n",
    "rf.fit(X_train, np.log10(y_train))\n",
    "\n",
    "e_reco = 10**rf.predict(X_test)\n",
    "predictions = np.array([dt.predict(X_test, check_input=True) for dt in rf.estimators_])\n",
    "e_reco_std = np.log10(predictions).std(axis=0)\n",
    "\n",
    "df_importance = pd.DataFrame({'importance': rf.feature_importances_ , 'name':X_train.columns.values})\n",
    "df_importance.index = df_importance.name\n",
    "df_importance = df_importance.sort_values(by='importance', ascending=True)\n",
    "df_importance.plot.barh(figsize=(8, 8))"
   ]
  },
  {
   "cell_type": "code",
   "execution_count": 30,
   "metadata": {
    "ExecuteTime": {
     "end_time": "2018-09-04T12:28:42.851556Z",
     "start_time": "2018-09-04T12:28:42.342786Z"
    }
   },
   "outputs": [
    {
     "name": "stdout",
     "output_type": "stream",
     "text": [
      "0.7444348532128533\n",
      "0.7514028375736499\n"
     ]
    },
    {
     "data": {
      "text/plain": [
       "(0, 0.45)"
      ]
     },
     "execution_count": 30,
     "metadata": {},
     "output_type": "execute_result"
    },
    {
     "data": {
      "image/png": "[encoded data removed]",
      "text/plain": [
       "<Figure size 432x288 with 1 Axes>"
      ]
     },
     "metadata": {},
     "output_type": "display_data"
    }
   ],
   "source": [
    "plot_energy_resolution(y_test, e_reco, bins=bin_edges, color='crimson')\n",
    "df = X_test.copy()\n",
    "df['gamma_energy_prediction'] = e_reco\n",
    "df['gamma_energy_prediction_std'] = e_reco_std\n",
    "df['mc_energy'] = y_test\n",
    "r = df.groupby(['run_id', 'array_event_id']).agg({'gamma_energy_prediction': np.mean, 'mc_energy': 'first'})\n",
    "\n",
    "\n",
    "plot_energy_resolution(r.mc_energy, r.gamma_energy_prediction, bins=bin_edges, color='blue')\n",
    "plt.ylim([0, 0.45])\n",
    "\n"
   ]
  },
  {
   "cell_type": "code",
   "execution_count": 31,
   "metadata": {
    "ExecuteTime": {
     "end_time": "2018-09-04T12:28:43.722891Z",
     "start_time": "2018-09-04T12:28:42.854203Z"
    }
   },
   "outputs": [
    {
     "name": "stderr",
     "output_type": "stream",
     "text": [
      "/usr/local/lib/python3.6/site-packages/numpy/core/_methods.py:29: RuntimeWarning: invalid value encountered in reduce\n",
      "  return umr_minimum(a, axis, None, out, keepdims)\n",
      "/usr/local/lib/python3.6/site-packages/numpy/core/_methods.py:26: RuntimeWarning: invalid value encountered in reduce\n",
      "  return umr_maximum(a, axis, None, out, keepdims)\n",
      "/usr/local/lib/python3.6/site-packages/numpy/lib/function_base.py:4291: RuntimeWarning: Invalid value encountered in percentile\n",
      "  interpolation=interpolation)\n"
     ]
    },
    {
     "ename": "ValueError",
     "evalue": "Input contains NaN, infinity or a value too large for dtype('float64').",
     "output_type": "error",
     "traceback": [
      "\u001b[0;31m---------------------------------------------------------------------------\u001b[0m",
      "\u001b[0;31mValueError\u001b[0m                                Traceback (most recent call last)",
      "\u001b[0;32m<ipython-input-31-65b6d7875e8a>\u001b[0m in \u001b[0;36m<module>\u001b[0;34m()\u001b[0m\n\u001b[1;32m      5\u001b[0m \u001b[0mdf\u001b[0m\u001b[0;34m[\u001b[0m\u001b[0;34m'mc_energy'\u001b[0m\u001b[0;34m]\u001b[0m \u001b[0;34m=\u001b[0m \u001b[0my_test\u001b[0m\u001b[0;34m\u001b[0m\u001b[0m\n\u001b[1;32m      6\u001b[0m \u001b[0mr\u001b[0m \u001b[0;34m=\u001b[0m \u001b[0mdf\u001b[0m\u001b[0;34m.\u001b[0m\u001b[0mgroupby\u001b[0m\u001b[0;34m(\u001b[0m\u001b[0;34m[\u001b[0m\u001b[0;34m'run_id'\u001b[0m\u001b[0;34m,\u001b[0m \u001b[0;34m'array_event_id'\u001b[0m\u001b[0;34m]\u001b[0m\u001b[0;34m)\u001b[0m\u001b[0;34m.\u001b[0m\u001b[0magg\u001b[0m\u001b[0;34m(\u001b[0m\u001b[0;34m{\u001b[0m\u001b[0;34m'gamma_energy_prediction'\u001b[0m\u001b[0;34m:\u001b[0m \u001b[0mnp\u001b[0m\u001b[0;34m.\u001b[0m\u001b[0msum\u001b[0m\u001b[0;34m,\u001b[0m \u001b[0;34m'mc_energy'\u001b[0m\u001b[0;34m:\u001b[0m \u001b[0;34m'first'\u001b[0m\u001b[0;34m,\u001b[0m \u001b[0;34m'weight'\u001b[0m\u001b[0;34m:\u001b[0m\u001b[0mnp\u001b[0m\u001b[0;34m.\u001b[0m\u001b[0msum\u001b[0m\u001b[0;34m}\u001b[0m\u001b[0;34m)\u001b[0m\u001b[0;34m\u001b[0m\u001b[0m\n\u001b[0;32m----> 7\u001b[0;31m \u001b[0mplot_energy_resolution\u001b[0m\u001b[0;34m(\u001b[0m\u001b[0mr\u001b[0m\u001b[0;34m.\u001b[0m\u001b[0mmc_energy\u001b[0m\u001b[0;34m,\u001b[0m \u001b[0mr\u001b[0m\u001b[0;34m.\u001b[0m\u001b[0mgamma_energy_prediction\u001b[0m \u001b[0;34m/\u001b[0m \u001b[0mr\u001b[0m\u001b[0;34m.\u001b[0m\u001b[0mweight\u001b[0m\u001b[0;34m,\u001b[0m \u001b[0mbins\u001b[0m\u001b[0;34m=\u001b[0m\u001b[0mbin_edges\u001b[0m\u001b[0;34m,\u001b[0m \u001b[0mcolor\u001b[0m\u001b[0;34m=\u001b[0m\u001b[0;34m'green'\u001b[0m\u001b[0;34m)\u001b[0m\u001b[0;34m\u001b[0m\u001b[0m\n\u001b[0m\u001b[1;32m      8\u001b[0m \u001b[0mplt\u001b[0m\u001b[0;34m.\u001b[0m\u001b[0mylim\u001b[0m\u001b[0;34m(\u001b[0m\u001b[0;34m[\u001b[0m\u001b[0;36m0\u001b[0m\u001b[0;34m,\u001b[0m \u001b[0;36m0.45\u001b[0m\u001b[0;34m]\u001b[0m\u001b[0;34m)\u001b[0m\u001b[0;34m\u001b[0m\u001b[0m\n",
      "\u001b[0;32m<ipython-input-16-899ed2fefaf1>\u001b[0m in \u001b[0;36mplot_energy_resolution\u001b[0;34m(e_true, e_reco, bins, ax, color)\u001b[0m\n\u001b[1;32m     19\u001b[0m     \u001b[0max\u001b[0m\u001b[0;34m.\u001b[0m\u001b[0mset_ylabel\u001b[0m\u001b[0;34m(\u001b[0m\u001b[0mlabel\u001b[0m\u001b[0;34m)\u001b[0m\u001b[0;34m\u001b[0m\u001b[0m\n\u001b[1;32m     20\u001b[0m     \u001b[0max\u001b[0m\u001b[0;34m.\u001b[0m\u001b[0mset_xlabel\u001b[0m\u001b[0;34m(\u001b[0m\u001b[0;34mr'$True Energy /  \\mathrm{TeV}$'\u001b[0m\u001b[0;34m)\u001b[0m\u001b[0;34m\u001b[0m\u001b[0m\n\u001b[0;32m---> 21\u001b[0;31m     \u001b[0mprint\u001b[0m\u001b[0;34m(\u001b[0m\u001b[0mr2_score\u001b[0m\u001b[0;34m(\u001b[0m\u001b[0me_true\u001b[0m\u001b[0;34m,\u001b[0m \u001b[0me_reco\u001b[0m\u001b[0;34m)\u001b[0m\u001b[0;34m)\u001b[0m\u001b[0;34m\u001b[0m\u001b[0m\n\u001b[0m\u001b[1;32m     22\u001b[0m     \u001b[0;32mreturn\u001b[0m \u001b[0max\u001b[0m\u001b[0;34m\u001b[0m\u001b[0m\n",
      "\u001b[0;32m/usr/local/lib/python3.6/site-packages/sklearn/metrics/regression.py\u001b[0m in \u001b[0;36mr2_score\u001b[0;34m(y_true, y_pred, sample_weight, multioutput)\u001b[0m\n\u001b[1;32m    528\u001b[0m     \"\"\"\n\u001b[1;32m    529\u001b[0m     y_type, y_true, y_pred, multioutput = _check_reg_targets(\n\u001b[0;32m--> 530\u001b[0;31m         y_true, y_pred, multioutput)\n\u001b[0m\u001b[1;32m    531\u001b[0m \u001b[0;34m\u001b[0m\u001b[0m\n\u001b[1;32m    532\u001b[0m     \u001b[0;32mif\u001b[0m \u001b[0msample_weight\u001b[0m \u001b[0;32mis\u001b[0m \u001b[0;32mnot\u001b[0m \u001b[0;32mNone\u001b[0m\u001b[0;34m:\u001b[0m\u001b[0;34m\u001b[0m\u001b[0m\n",
      "\u001b[0;32m/usr/local/lib/python3.6/site-packages/sklearn/metrics/regression.py\u001b[0m in \u001b[0;36m_check_reg_targets\u001b[0;34m(y_true, y_pred, multioutput)\u001b[0m\n\u001b[1;32m     75\u001b[0m     \u001b[0mcheck_consistent_length\u001b[0m\u001b[0;34m(\u001b[0m\u001b[0my_true\u001b[0m\u001b[0;34m,\u001b[0m \u001b[0my_pred\u001b[0m\u001b[0;34m)\u001b[0m\u001b[0;34m\u001b[0m\u001b[0m\n\u001b[1;32m     76\u001b[0m     \u001b[0my_true\u001b[0m \u001b[0;34m=\u001b[0m \u001b[0mcheck_array\u001b[0m\u001b[0;34m(\u001b[0m\u001b[0my_true\u001b[0m\u001b[0;34m,\u001b[0m \u001b[0mensure_2d\u001b[0m\u001b[0;34m=\u001b[0m\u001b[0;32mFalse\u001b[0m\u001b[0;34m)\u001b[0m\u001b[0;34m\u001b[0m\u001b[0m\n\u001b[0;32m---> 77\u001b[0;31m     \u001b[0my_pred\u001b[0m \u001b[0;34m=\u001b[0m \u001b[0mcheck_array\u001b[0m\u001b[0;34m(\u001b[0m\u001b[0my_pred\u001b[0m\u001b[0;34m,\u001b[0m \u001b[0mensure_2d\u001b[0m\u001b[0;34m=\u001b[0m\u001b[0;32mFalse\u001b[0m\u001b[0;34m)\u001b[0m\u001b[0;34m\u001b[0m\u001b[0m\n\u001b[0m\u001b[1;32m     78\u001b[0m \u001b[0;34m\u001b[0m\u001b[0m\n\u001b[1;32m     79\u001b[0m     \u001b[0;32mif\u001b[0m \u001b[0my_true\u001b[0m\u001b[0;34m.\u001b[0m\u001b[0mndim\u001b[0m \u001b[0;34m==\u001b[0m \u001b[0;36m1\u001b[0m\u001b[0;34m:\u001b[0m\u001b[0;34m\u001b[0m\u001b[0m\n",
      "\u001b[0;32m/usr/local/lib/python3.6/site-packages/sklearn/utils/validation.py\u001b[0m in \u001b[0;36mcheck_array\u001b[0;34m(array, accept_sparse, dtype, order, copy, force_all_finite, ensure_2d, allow_nd, ensure_min_samples, ensure_min_features, warn_on_dtype, estimator)\u001b[0m\n\u001b[1;32m    451\u001b[0m                              % (array.ndim, estimator_name))\n\u001b[1;32m    452\u001b[0m         \u001b[0;32mif\u001b[0m \u001b[0mforce_all_finite\u001b[0m\u001b[0;34m:\u001b[0m\u001b[0;34m\u001b[0m\u001b[0m\n\u001b[0;32m--> 453\u001b[0;31m             \u001b[0m_assert_all_finite\u001b[0m\u001b[0;34m(\u001b[0m\u001b[0marray\u001b[0m\u001b[0;34m)\u001b[0m\u001b[0;34m\u001b[0m\u001b[0m\n\u001b[0m\u001b[1;32m    454\u001b[0m \u001b[0;34m\u001b[0m\u001b[0m\n\u001b[1;32m    455\u001b[0m     \u001b[0mshape_repr\u001b[0m \u001b[0;34m=\u001b[0m \u001b[0m_shape_repr\u001b[0m\u001b[0;34m(\u001b[0m\u001b[0marray\u001b[0m\u001b[0;34m.\u001b[0m\u001b[0mshape\u001b[0m\u001b[0;34m)\u001b[0m\u001b[0;34m\u001b[0m\u001b[0m\n",
      "\u001b[0;32m/usr/local/lib/python3.6/site-packages/sklearn/utils/validation.py\u001b[0m in \u001b[0;36m_assert_all_finite\u001b[0;34m(X)\u001b[0m\n\u001b[1;32m     42\u001b[0m             and not np.isfinite(X).all()):\n\u001b[1;32m     43\u001b[0m         raise ValueError(\"Input contains NaN, infinity\"\n\u001b[0;32m---> 44\u001b[0;31m                          \" or a value too large for %r.\" % X.dtype)\n\u001b[0m\u001b[1;32m     45\u001b[0m \u001b[0;34m\u001b[0m\u001b[0m\n\u001b[1;32m     46\u001b[0m \u001b[0;34m\u001b[0m\u001b[0m\n",
      "\u001b[0;31mValueError\u001b[0m: Input contains NaN, infinity or a value too large for dtype('float64')."
     ]
    },
    {
     "data": {
      "image/png": "[encoded data removed]",
      "text/plain": [
       "<Figure size 432x288 with 1 Axes>"
      ]
     },
     "metadata": {},
     "output_type": "display_data"
    }
   ],
   "source": [
    "df = X_test.copy()\n",
    "df['gamma_energy_prediction'] = e_reco * 1/e_reco_std**2\n",
    "df['gamma_energy_prediction_std'] = e_reco_std\n",
    "df['weight'] = 1/e_reco_std**2\n",
    "df['mc_energy'] = y_test\n",
    "r = df.groupby(['run_id', 'array_event_id']).agg({'gamma_energy_prediction': np.sum, 'mc_energy': 'first', 'weight':np.sum})\n",
    "plot_energy_resolution(r.mc_energy, r.gamma_energy_prediction / r.weight, bins=bin_edges, color='green')\n",
    "plt.ylim([0, 0.45])"
   ]
  },
  {
   "cell_type": "code",
   "execution_count": 23,
   "metadata": {
    "ExecuteTime": {
     "end_time": "2018-09-04T12:24:21.085164Z",
     "start_time": "2018-09-04T12:24:20.635472Z"
    }
   },
   "outputs": [
    {
     "name": "stdout",
     "output_type": "stream",
     "text": [
      "0.8105637499793891\n"
     ]
    },
    {
     "data": {
      "text/plain": [
       "<matplotlib.axes._subplots.AxesSubplot at 0x11c93e9e8>"
      ]
     },
     "execution_count": 23,
     "metadata": {},
     "output_type": "execute_result"
    },
    {
     "data": {
      "image/png": "[encoded data removed]",
      "text/plain": [
       "<Figure size 432x288 with 1 Axes>"
      ]
     },
     "metadata": {},
     "output_type": "display_data"
    }
   ],
   "source": [
    "df = X_test.copy()\n",
    "df['gamma_energy_prediction'] = e_reco\n",
    "df['gamma_energy_prediction_std'] = e_reco_std\n",
    "df['mc_energy'] = y_test\n",
    "\n",
    "# df = df.query('gamma_energy_prediction_std < 0.1')\n",
    "plot_energy_resolution(df.mc_energy, df.gamma_energy_prediction, bins=bin_edges, color='black')"
   ]
  },
  {
   "cell_type": "code",
   "execution_count": 209,
   "metadata": {
    "collapsed": true
   },
   "outputs": [],
   "source": [
    "w = 1/e_reco_std**2\n",
    "# w = 1\n",
    "X_test['e_reco_std'] = e_reco_std\n",
    "X_test['weight'] = w\n",
    "X_test['e_reco'] = e_reco\n",
    "X_test['e_reco_weighted'] = e_reco*w\n",
    "X_test['mc_energy'] = y_test\n",
    "X_test_array_events = X_test.groupby(['run_id', 'array_event_id']).agg({'e_reco_weighted': np.sum, 'mc_energy':'first', 'weight':np.sum})\n",
    "X_test_array_events['gamma_energy_prediction'] = X_test_array_events.e_reco_weighted / X_test_array_events.weight"
   ]
  },
  {
   "cell_type": "code",
   "execution_count": 210,
   "metadata": {},
   "outputs": [
    {
     "name": "stdout",
     "output_type": "stream",
     "text": [
      "0.8623696346848411\n",
      "0.8086499437969555\n"
     ]
    },
    {
     "data": {
      "text/plain": [
       "(0, 0.45)"
      ]
     },
     "execution_count": 210,
     "metadata": {},
     "output_type": "execute_result"
    },
    {
     "data": {
      "image/png": "[encoded data removed]",
      "text/plain": [
       "<Figure size 432x288 with 1 Axes>"
      ]
     },
     "metadata": {},
     "output_type": "display_data"
    }
   ],
   "source": [
    "ax = plot_energy_resolution(y_test, e_reco, bins=bin_edges, color='red')\n",
    "plot_energy_resolution(X_test_array_events['mc_energy'], X_test_array_events['gamma_energy_prediction'], bins=bin_edges, color='orange', ax=ax)\n",
    "ax.set_ylim([0, 0.45])"
   ]
  },
  {
   "cell_type": "code",
   "execution_count": null,
   "metadata": {
    "collapsed": true
   },
   "outputs": [],
   "source": []
  }
 ],
 "metadata": {
  "kernelspec": {
   "display_name": "Python 3",
   "language": "python",
   "name": "python3"
  },
  "language_info": {
   "codemirror_mode": {
    "name": "ipython",
    "version": 3
   },
   "file_extension": ".py",
   "mimetype": "text/x-python",
   "name": "python",
   "nbconvert_exporter": "python",
   "pygments_lexer": "ipython3",
   "version": "3.6.5"
  }
 },
 "nbformat": 4,
 "nbformat_minor": 2
}
