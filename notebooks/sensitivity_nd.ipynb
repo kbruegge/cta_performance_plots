{
 "cells": [
  {
   "cell_type": "code",
   "execution_count": 1,
   "metadata": {
    "ExecuteTime": {
     "end_time": "2018-07-27T15:01:07.026667Z",
     "start_time": "2018-07-27T15:01:03.493881Z"
    }
   },
   "outputs": [],
   "source": [
    "import astropy.units as u\n",
    "from spectrum import CosmicRaySpectrum, CrabSpectrum, CTAElectronSpectrum, MCSpectrum, make_energy_bins\n",
    "import fact.io\n",
    "\n",
    "from astropy.coordinates import Angle\n",
    "from astropy.coordinates.angle_utilities import angular_separation\n",
    "\n",
    "from scipy.ndimage import gaussian_filter\n",
    "from scipy.interpolate import interp1d\n",
    "\n",
    "import numpy as np\n",
    "import pandas as pd\n",
    "import matplotlib.pyplot as plt\n",
    "from fact.analysis import li_ma_significance\n",
    "from scipy.optimize import brute\n",
    "from scipy.optimize import minimize_scalar\n",
    "from tqdm import tqdm\n",
    "%matplotlib inline"
   ]
  },
  {
   "cell_type": "code",
   "execution_count": 2,
   "metadata": {
    "ExecuteTime": {
     "end_time": "2018-07-27T15:01:10.054216Z",
     "start_time": "2018-07-27T15:01:07.029291Z"
    }
   },
   "outputs": [
    {
     "name": "stdout",
     "output_type": "stream",
     "text": [
      "Index(['gamma_prediction_mean', 'gamma_energy_prediction_mean',\n",
      "       'az_prediction', 'alt_prediction', 'mc_alt', 'mc_az', 'mc_energy',\n",
      "       'num_triggered_telescopes', 'type', 'weight'],\n",
      "      dtype='object')\n",
      "7304127\n",
      "959909\n"
     ]
    }
   ],
   "source": [
    "n_bins = 20\n",
    "\n",
    "gamma_input = '../../cta_rta_analysis/build/gammas_test.hdf5'\n",
    "proton_input = '../../cta_rta_analysis/build/protons_test.hdf5'\n",
    "\n",
    "t_obs = 50 * u.h\n",
    "e_min, e_max = 0.02 * u.TeV, 200 * u.TeV\n",
    "bin_edges, bin_center, bin_width = make_energy_bins(e_min=e_min, e_max=e_max, bins=n_bins, centering='log')\n",
    "\n",
    "columns = ['gamma_prediction_mean', 'gamma_energy_prediction_mean', 'az_prediction', 'alt_prediction', 'mc_alt', 'mc_az', 'mc_energy', 'num_triggered_telescopes']\n",
    "\n",
    "gammas = fact.io.read_data(gamma_input, key='array_events', columns=columns)\n",
    "gammas = gammas.dropna()\n",
    "gammas['type'] = 0\n",
    "gamma_runs = fact.io.read_data(gamma_input, key='runs')\n",
    "mc_production_gamma = MCSpectrum.from_cta_runs(gamma_runs)\n",
    "\n",
    "protons = fact.io.read_data(proton_input, key='array_events', columns=columns)\n",
    "protons = protons.dropna()\n",
    "protons['type'] = 1\n",
    "proton_runs = fact.io.read_data(proton_input, key='runs')\n",
    "mc_production_proton = MCSpectrum.from_cta_runs(proton_runs)\n",
    "\n",
    "crab = CrabSpectrum()\n",
    "cosmic_proton = CosmicRaySpectrum()\n",
    "\n",
    "gammas['weight'] = mc_production_gamma.reweigh_to_other_spectrum(crab, gammas.mc_energy.values * u.TeV, t_assumed_obs=t_obs)\n",
    "protons['weight'] = mc_production_proton.reweigh_to_other_spectrum(cosmic_proton, protons.mc_energy.values * u.TeV, t_assumed_obs=t_obs)\n",
    "\n",
    "print(gammas.columns)\n",
    "\n",
    "print(len(protons))\n",
    "print(len(gammas))"
   ]
  },
  {
   "cell_type": "code",
   "execution_count": 3,
   "metadata": {
    "ExecuteTime": {
     "end_time": "2018-07-27T15:01:12.011534Z",
     "start_time": "2018-07-27T15:01:11.216384Z"
    }
   },
   "outputs": [],
   "source": [
    "def calculate_theta(df, source_alt=70 * u.deg, source_az=0 * u.deg):\n",
    "    source_az = Angle(source_az).wrap_at(180 * u.deg)\n",
    "    source_alt = Angle(source_alt)\n",
    "\n",
    "    az = Angle(df.az_prediction.values, unit=u.rad).wrap_at(180*u.deg)\n",
    "    alt = Angle(df.alt_prediction.values, unit=u.rad)\n",
    "\n",
    "    return angular_separation(source_az, source_alt, az, alt).to(u.deg).value\n",
    "\n",
    "gammas['theta'] = calculate_theta(gammas)\n",
    "protons['theta'] = calculate_theta(protons)"
   ]
  },
  {
   "cell_type": "code",
   "execution_count": 33,
   "metadata": {
    "ExecuteTime": {
     "end_time": "2018-07-27T15:21:47.547389Z",
     "start_time": "2018-07-27T15:21:47.154011Z"
    }
   },
   "outputs": [],
   "source": [
    "def count_events_in_region(df, theta2=0.03, prediction_threshold=0.5):\n",
    "    m = ((df.theta**2 <= theta2) & (df.gamma_prediction_mean >= prediction_threshold))\n",
    "    return df[m].weight.sum(), m.sum()\n",
    "\n",
    "\n",
    "def count_off_events_in_region(df, theta2, prediction_threshold):\n",
    "    df = df.query('theta < 1.0')\n",
    "    m = df.gamma_prediction_mean >= prediction_threshold\n",
    "    return df[m].weight.sum() * theta2, m.sum() * theta2\n",
    "\n",
    "\n",
    "def select_events_in_energy_range(signal, background, e_low, e_high, use_true_energy=False):\n",
    "    \n",
    "    column = 'mc_energy' if use_true_energy else 'gamma_energy_prediction_mean'\n",
    "    m = ((signal[column] > e_low ) & (signal[column] < e_high ))\n",
    "    s = signal[m]\n",
    "\n",
    "    m = ((background[column] > e_low ) & (background[column] < e_high ))\n",
    "    b = background[m]\n",
    "    return s, b\n",
    "\n",
    "def scaling_factor(n_signal, n_background, t_signal, t_background, alpha=0.2, N=300): \n",
    "    \n",
    "    right_bound = 100\n",
    "\n",
    "    def target(scaling_factor, n_signal, n_background, alpha=0.2, sigma=5):\n",
    "        n_on = n_background*alpha + n_signal * scaling_factor\n",
    "        n_off = n_background\n",
    "        \n",
    "        significance = li_ma_significance(n_on, n_off, alpha=alpha)\n",
    "        return (5 - significance)**2\n",
    "    \n",
    "    n_signal = np.random.poisson(t_signal, size=N) * n_signal / t_signal\n",
    "    n_background = np.random.poisson(t_background, size=N) * n_background / t_background\n",
    "    \n",
    "    \n",
    "    hs = []\n",
    "    for signal, background in zip(n_signal, n_background):\n",
    "        if background == 0:\n",
    "            hs.append(np.nan)\n",
    "        else:\n",
    "            result = minimize_scalar(target, args=(signal, background, alpha), bounds=(0, right_bound), method='bounded').x\n",
    "            if np.allclose(result, right_bound):\n",
    "                result = np.nan\n",
    "            hs.append(result)\n",
    "    return np.nanpercentile(np.array(hs), (50, 5, 95))\n",
    "\n",
    "\n",
    "# regions=slice(0.015, 0.02, 0.0025), thresholds=slice(0.8, 9, 0.05)\n",
    "# regions=slice(0.0025, 0.07, 0.0025), thresholds=slice(0.3, 1, 0.05)\n",
    "# regions=slice(0.0025, 0.08, 0.01), thresholds=slice(0.4, 1, 0.05)\n",
    "def find_best_cuts(signal, background, alpha=0.2, regions=slice(0.02, 0.06, 0.01), thresholds=slice(0.6, 1, 0.1), multiplicity=slice(2, 6, 1), method='simple'):\n",
    "    \n",
    "    def significance_target(cuts, signal, background, alpha):\n",
    "        theta2, p_cut, multiplicity = cuts\n",
    "        \n",
    "        signal = signal.query(f'num_triggered_telescopes >= {multiplicity}').copy()\n",
    "        background = background.query(f'num_triggered_telescopes >= {multiplicity}').copy()\n",
    "        \n",
    "        n_signal, t_signal = count_events_in_region(signal, theta2=theta2, prediction_threshold=p_cut)\n",
    "\n",
    "        if method == 'exact':\n",
    "            n_background, t_background = count_events_in_region(background, theta2=theta2/alpha, prediction_threshold=p_cut)\n",
    "        elif method == 'simple':\n",
    "            n_background, t_background = count_off_events_in_region(background, theta2=theta2/alpha, prediction_threshold=p_cut)\n",
    "\n",
    "        if t_signal <= t_background * alpha + 10:\n",
    "            return 0\n",
    "        \n",
    "        if n_signal*5 < n_background * 0.01:\n",
    "            return 0\n",
    "            \n",
    "                \n",
    "        n_on = n_signal + alpha*n_background\n",
    "        n_off = n_background\n",
    "#         print(cuts, -li_ma_significance(n_on, n_off, alpha=alpha))\n",
    "        return -li_ma_significance(n_on, n_off, alpha=alpha)\n",
    "\n",
    "    result = brute(significance_target, ranges=[regions, thresholds, multiplicity], args=(signal, background, alpha), finish=None)\n",
    "    print(result)\n",
    "    return result\n",
    "\n",
    "\n",
    "def calc_relative_sensitivity(signal, background, bin_edges, alpha=1, use_true_energy=False, method='simple'):\n",
    "    relative_sensitivities = []\n",
    "\n",
    "    for e_low, e_high in tqdm(zip(bin_edges[:-1], bin_edges[1:])):\n",
    "        s, b = select_events_in_energy_range(signal, background, e_low, e_high, use_true_energy=use_true_energy)\n",
    "        \n",
    "        theta2, cut, multiplicity = find_best_cuts(s, b, alpha=alpha, method=method)\n",
    "\n",
    "        s = s.query(f'num_triggered_telescopes >= {multiplicity}').copy()\n",
    "        b = b.query(f'num_triggered_telescopes >= {multiplicity}').copy()\n",
    "        \n",
    "        n_signal, t_signal = count_events_in_region(s, theta2=theta2, prediction_threshold=cut)\n",
    "\n",
    "        if method == 'simple':\n",
    "            n_background, t_background = count_off_events_in_region(b, theta2=theta2/alpha, prediction_threshold=cut)\n",
    "        elif method == 'exact':\n",
    "            n_background, t_background = count_events_in_region(b, theta2=theta2/alpha, prediction_threshold=cut)\n",
    "        \n",
    "        print(theta2, cut, multiplicity, n_signal, n_background,  li_ma_significance(n_signal + n_background*alpha, n_background, alpha=alpha))\n",
    "        rs = scaling_factor(n_signal, n_background, t_signal, t_background, alpha=alpha)\n",
    "        relative_sensitivities.append(rs)\n",
    "        \n",
    "        \n",
    "    m, l, h = np.array(relative_sensitivities).T\n",
    "    d = {'sensitivity': m, 'sensitivity_low': l, 'sensitivity_high': h}\n",
    "    return pd.DataFrame(d)\n",
    "\n"
   ]
  },
  {
   "cell_type": "code",
   "execution_count": 34,
   "metadata": {
    "ExecuteTime": {
     "end_time": "2018-07-27T15:21:47.694283Z",
     "start_time": "2018-07-27T15:21:47.549911Z"
    }
   },
   "outputs": [],
   "source": [
    "def plot_sensitivity(rs, crab, bin_edges, bin_center, color='blue', **kwargs):\n",
    "    sensitivity = rs.sensitivity.values * (crab.flux(bin_center) * bin_center**2).to(u.erg / (u.s * u.cm**2))\n",
    "    sensitivity_low = rs.sensitivity_low.values * (crab.flux(bin_center) * bin_center**2).to(u.erg / (u.s * u.cm**2))\n",
    "    sensitivity_high = rs.sensitivity_high.values * (crab.flux(bin_center) * bin_center**2).to(u.erg / (u.s * u.cm**2))\n",
    "    xerr = [np.abs(bin_edges[:-1] - bin_center).value, np.abs(bin_edges[1:] - bin_center).value]\n",
    "    yerr = [np.abs(sensitivity - sensitivity_low).value, np.abs(sensitivity - sensitivity_high).value]\n",
    "    plt.errorbar(bin_center.value, sensitivity.value, xerr=xerr, yerr=yerr, linestyle='', ecolor=color, **kwargs)\n",
    "\n",
    "    plt.xscale('log')\n",
    "    plt.yscale('log')\n",
    "    plt.plot(bin_edges, crab.flux(bin_edges) * bin_edges**2, '--', color='gray')\n",
    "    plt.ylim([1E-14, 1E-9])\n",
    "    \n",
    "    path = '../resources/ascii/CTA-Performance-prod3b-v1-South-20deg-50h-DiffSens.txt'\n",
    "    df = pd.read_csv(path, delimiter='\\t\\t', skiprows=10, names=['e_min', 'e_max', 'sensitivity'], engine='python')\n",
    "    bin_edges = sorted(list(set(df.e_min) | set(df.e_max))) * u.TeV\n",
    "    bin_center = np.sqrt(bin_edges[:-1] * bin_edges[1:])\n",
    "    sensitivity = df.sensitivity.values * u.erg/(u.cm**2 * u.s)\n",
    "\n",
    "    xerr = [np.abs(bin_edges[:-1] - bin_center).value, np.abs(bin_edges[1:] - bin_center).value]\n",
    "    plt.errorbar(bin_center.value, sensitivity.value, xerr=xerr, linestyle='', color='black',)\n",
    "\n",
    "    \n",
    "    path = '../resources/sensitivity_requirement_south_50.txt'\n",
    "    df = pd.read_csv(path, delim_whitespace=True, names=['log_energy', 'sensitivity'], index_col=False,  engine='python')\n",
    "    df['energy'] = 10**df.log_energy\n",
    "    plt.plot(df.energy, df.sensitivity, color='gray')\n",
    "    \n",
    "    plt.plot(df.energy, df.sensitivity * 3, color='lightgray', linestyle='--')\n",
    "    \n",
    "    plt.ylabel(r'$ E^2 \\cdot \\mathrm{photons} \\quad \\mathrm{erg} /( \\mathrm{s} \\quad  \\mathrm{cm}^2$ )  in ' + str(t_obs.to('h')) )\n",
    "    plt.xlabel(r'$E /  \\mathrm{TeV}$')\n"
   ]
  },
  {
   "cell_type": "code",
   "execution_count": 35,
   "metadata": {
    "ExecuteTime": {
     "end_time": "2018-07-27T15:23:39.270461Z",
     "start_time": "2018-07-27T15:22:40.364735Z"
    },
    "scrolled": true
   },
   "outputs": [
    {
     "name": "stderr",
     "output_type": "stream",
     "text": [
      "\r",
      "0it [00:00, ?it/s]"
     ]
    },
    {
     "name": "stdout",
     "output_type": "stream",
     "text": [
      "[0.05 0.9  2.  ]\n",
      "0.05 0.9 2.0 518045.62897611124 9837567.4269736 321.5362413793498\n"
     ]
    },
    {
     "name": "stderr",
     "output_type": "stream",
     "text": [
      "2it [00:03,  1.97s/it]"
     ]
    },
    {
     "name": "stdout",
     "output_type": "stream",
     "text": [
      "[0.04 0.9  3.  ]\n",
      "0.04 0.9 3.0 211388.69404320358 1513086.7094913449 313.24278253801003\n",
      "[0.03 0.9  4.  ]\n",
      "0.03 0.9 4.0 220223.20780270456 805556.6619067393 412.20386652948923\n"
     ]
    },
    {
     "name": "stderr",
     "output_type": "stream",
     "text": [
      "\r",
      "3it [00:06,  2.23s/it]"
     ]
    },
    {
     "name": "stdout",
     "output_type": "stream",
     "text": [
      "[0.03 0.9  2.  ]\n",
      "0.03 0.9 2.0 191323.8276326805 325932.2766798397 488.7901102070651\n"
     ]
    },
    {
     "name": "stderr",
     "output_type": "stream",
     "text": [
      "\r",
      "4it [00:11,  2.81s/it]"
     ]
    },
    {
     "name": "stdout",
     "output_type": "stream",
     "text": [
      "[0.02 0.9  2.  ]\n",
      "0.02 0.9 2.0 112716.81447625061 41925.911857284256 513.2082011934498\n"
     ]
    },
    {
     "name": "stderr",
     "output_type": "stream",
     "text": [
      "\r",
      "5it [00:16,  3.27s/it]"
     ]
    },
    {
     "name": "stdout",
     "output_type": "stream",
     "text": [
      "[0.02 0.8  2.  ]\n",
      "0.02 0.8 2.0 110547.17173398266 57210.20335548282 483.26448135073997\n"
     ]
    },
    {
     "name": "stderr",
     "output_type": "stream",
     "text": [
      "\r",
      "6it [00:19,  3.28s/it]"
     ]
    },
    {
     "name": "stdout",
     "output_type": "stream",
     "text": [
      "[0.02 0.8  3.  ]\n",
      "0.02 0.8 3.0 92373.23811700783 23511.827621635104 487.29824543021385\n"
     ]
    },
    {
     "name": "stderr",
     "output_type": "stream",
     "text": [
      "\r",
      "7it [00:22,  3.24s/it]"
     ]
    },
    {
     "name": "stdout",
     "output_type": "stream",
     "text": [
      "[0.02 0.8  3.  ]\n",
      "0.02 0.8 3.0 60978.1554486103 14456.54793617631 399.0361909950783\n"
     ]
    },
    {
     "name": "stderr",
     "output_type": "stream",
     "text": [
      "\r",
      "8it [00:26,  3.30s/it]"
     ]
    },
    {
     "name": "stdout",
     "output_type": "stream",
     "text": [
      "[0.02 0.8  3.  ]\n",
      "0.02 0.8 3.0 41230.93586114164 10640.109470081734 325.0549448917652\n"
     ]
    },
    {
     "name": "stderr",
     "output_type": "stream",
     "text": [
      "\r",
      "9it [00:29,  3.23s/it]"
     ]
    },
    {
     "name": "stdout",
     "output_type": "stream",
     "text": [
      "[0.02 0.7  3.  ]\n",
      "0.02 0.7 3.0 30300.38001152291 10926.395045867741 267.2309609578763\n"
     ]
    },
    {
     "name": "stderr",
     "output_type": "stream",
     "text": [
      "\r",
      "10it [00:31,  3.15s/it]"
     ]
    },
    {
     "name": "stdout",
     "output_type": "stream",
     "text": [
      "[0.02 0.7  3.  ]\n",
      "0.02 0.7 3.0 18177.961872825043 4026.031501111061 219.44578553175035\n"
     ]
    },
    {
     "name": "stderr",
     "output_type": "stream",
     "text": [
      "\r",
      "11it [00:33,  3.06s/it]"
     ]
    },
    {
     "name": "stdout",
     "output_type": "stream",
     "text": [
      "[0.02 0.7  3.  ]\n",
      "0.02 0.7 3.0 9194.71028498693 1877.8591127394645 157.35796483712056\n"
     ]
    },
    {
     "name": "stderr",
     "output_type": "stream",
     "text": [
      "\r",
      "12it [00:36,  3.00s/it]"
     ]
    },
    {
     "name": "stdout",
     "output_type": "stream",
     "text": [
      "[0.02 0.7  3.  ]\n",
      "0.02 0.7 3.0 4772.994265497582 818.1296669827843 115.2512014724344\n"
     ]
    },
    {
     "name": "stderr",
     "output_type": "stream",
     "text": [
      "\r",
      "13it [00:38,  2.94s/it]"
     ]
    },
    {
     "name": "stdout",
     "output_type": "stream",
     "text": [
      "[0.02 0.7  3.  ]\n",
      "0.02 0.7 3.0 2587.3434507074107 420.2792790340258 85.2539713322992\n"
     ]
    },
    {
     "name": "stderr",
     "output_type": "stream",
     "text": [
      "\r",
      "14it [00:40,  2.90s/it]"
     ]
    },
    {
     "name": "stdout",
     "output_type": "stream",
     "text": [
      "[0.02 0.7  3.  ]\n",
      "0.02 0.7 3.0 1293.7954915632606 153.4736855727186 61.779188730376156\n"
     ]
    },
    {
     "name": "stderr",
     "output_type": "stream",
     "text": [
      "\r",
      "15it [00:42,  2.83s/it]"
     ]
    },
    {
     "name": "stdout",
     "output_type": "stream",
     "text": [
      "[0.02 0.7  3.  ]\n",
      "0.02 0.7 3.0 594.3780082099266 70.14475635057254 41.8887571692418\n"
     ]
    },
    {
     "name": "stderr",
     "output_type": "stream",
     "text": [
      "\r",
      "16it [00:43,  2.75s/it]"
     ]
    },
    {
     "name": "stdout",
     "output_type": "stream",
     "text": [
      "[0.02 0.7  3.  ]\n",
      "0.02 0.7 3.0 284.833167868004 20.913703059946464 29.835758789515953\n"
     ]
    },
    {
     "name": "stderr",
     "output_type": "stream",
     "text": [
      "18it [00:45,  2.55s/it]"
     ]
    },
    {
     "name": "stdout",
     "output_type": "stream",
     "text": [
      "[0.02 0.7  2.  ]\n",
      "0.02 0.7 2.0 145.06561412326667 3.5570434422140536 22.137658615898285\n"
     ]
    },
    {
     "name": "stderr",
     "output_type": "stream",
     "text": [
      "\r",
      "19it [00:46,  2.46s/it]"
     ]
    },
    {
     "name": "stdout",
     "output_type": "stream",
     "text": [
      "[0.02 0.7  2.  ]\n",
      "0.02 0.7 2.0 59.2589881068332 3.4099558993493075 13.765258952610475\n"
     ]
    },
    {
     "name": "stderr",
     "output_type": "stream",
     "text": [
      "\r",
      "20it [00:47,  2.37s/it]"
     ]
    },
    {
     "name": "stdout",
     "output_type": "stream",
     "text": [
      "[0.02 0.7  2.  ]\n",
      "0.02 0.7 2.0 19.704735376541805 4.071315729874177 7.276212163848361\n"
     ]
    },
    {
     "name": "stderr",
     "output_type": "stream",
     "text": [
      "\n",
      "0it [00:00, ?it/s]"
     ]
    },
    {
     "name": "stdout",
     "output_type": "stream",
     "text": [
      "[0.05 0.9  2.  ]\n",
      "0.05 0.9 2.0 2909.423709453067 48316.432475827736 25.60632882780553\n"
     ]
    },
    {
     "name": "stderr",
     "output_type": "stream",
     "text": [
      "\r",
      "1it [00:00,  1.13it/s]"
     ]
    },
    {
     "name": "stdout",
     "output_type": "stream",
     "text": [
      "[0.04 0.9  2.  ]\n",
      "0.04 0.9 2.0 98119.24651684592 584990.9463509666 229.4970074365338\n"
     ]
    },
    {
     "name": "stderr",
     "output_type": "stream",
     "text": [
      "\r",
      "2it [00:02,  1.02s/it]"
     ]
    },
    {
     "name": "stdout",
     "output_type": "stream",
     "text": [
      "[0.03 0.9  2.  ]\n",
      "0.03 0.9 2.0 206153.20132061685 723270.5105347387 404.6664645297704\n"
     ]
    },
    {
     "name": "stderr",
     "output_type": "stream",
     "text": [
      "\r",
      "3it [00:03,  1.18s/it]"
     ]
    },
    {
     "name": "stdout",
     "output_type": "stream",
     "text": [
      "[0.03 0.9  2.  ]\n",
      "0.03 0.9 2.0 190502.88276528777 323712.1093091264 488.0841697556991\n"
     ]
    },
    {
     "name": "stderr",
     "output_type": "stream",
     "text": [
      "\r",
      "4it [00:05,  1.39s/it]"
     ]
    },
    {
     "name": "stdout",
     "output_type": "stream",
     "text": [
      "[0.02 0.9  2.  ]\n",
      "0.02 0.9 2.0 111791.5964127333 41925.911857284256 510.50862894056604\n"
     ]
    },
    {
     "name": "stderr",
     "output_type": "stream",
     "text": [
      "\r",
      "5it [00:07,  1.57s/it]"
     ]
    },
    {
     "name": "stdout",
     "output_type": "stream",
     "text": [
      "[0.02 0.8  2.  ]\n",
      "0.02 0.8 2.0 80627.92952829922 31343.678278959203 431.3541234413361\n"
     ]
    },
    {
     "name": "stderr",
     "output_type": "stream",
     "text": [
      "\r",
      "6it [00:09,  1.66s/it]"
     ]
    },
    {
     "name": "stdout",
     "output_type": "stream",
     "text": [
      "[0.02 0.8  2.  ]\n",
      "0.02 0.8 2.0 69902.99119048883 10166.982374676563 447.2124018105\n"
     ]
    },
    {
     "name": "stderr",
     "output_type": "stream",
     "text": [
      "\r",
      "7it [00:12,  1.72s/it]"
     ]
    },
    {
     "name": "stdout",
     "output_type": "stream",
     "text": [
      "[0.02 0.8  2.  ]\n",
      "0.02 0.8 2.0 41250.56585018551 3310.811333222127 357.37583898149774\n"
     ]
    },
    {
     "name": "stderr",
     "output_type": "stream",
     "text": [
      "\r",
      "8it [00:14,  1.76s/it]"
     ]
    },
    {
     "name": "stdout",
     "output_type": "stream",
     "text": [
      "[0.02 0.8  2.  ]\n",
      "0.02 0.8 2.0 24830.401423749012 1079.7361642427868 284.8736793797012\n"
     ]
    },
    {
     "name": "stderr",
     "output_type": "stream",
     "text": [
      "\r",
      "9it [00:16,  1.78s/it]"
     ]
    },
    {
     "name": "stdout",
     "output_type": "stream",
     "text": [
      "[0.02 0.7  2.  ]\n",
      "0.02 0.7 2.0 18155.455953635366 2227.876064879393 230.87039705136718\n"
     ]
    },
    {
     "name": "stderr",
     "output_type": "stream",
     "text": [
      "\r",
      "10it [00:17,  1.79s/it]"
     ]
    },
    {
     "name": "stdout",
     "output_type": "stream",
     "text": [
      "[0.02 0.7  2.  ]\n",
      "0.02 0.7 2.0 13035.117524745712 1378.2157165950493 197.62712968315384\n"
     ]
    },
    {
     "name": "stderr",
     "output_type": "stream",
     "text": [
      "\r",
      "11it [00:19,  1.80s/it]"
     ]
    },
    {
     "name": "stdout",
     "output_type": "stream",
     "text": [
      "[0.02 0.7  2.  ]\n",
      "0.02 0.7 2.0 7318.449998964658 761.2801480894778 148.23713202610628\n"
     ]
    },
    {
     "name": "stderr",
     "output_type": "stream",
     "text": [
      "\r",
      "12it [00:21,  1.79s/it]"
     ]
    },
    {
     "name": "stdout",
     "output_type": "stream",
     "text": [
      "[0.02 0.7  2.  ]\n",
      "0.02 0.7 2.0 3913.70072096375 550.4715761197958 106.09918107485916\n"
     ]
    },
    {
     "name": "stderr",
     "output_type": "stream",
     "text": [
      "\r",
      "13it [00:22,  1.76s/it]"
     ]
    },
    {
     "name": "stdout",
     "output_type": "stream",
     "text": [
      "[0.02 0.7  2.  ]\n",
      "0.02 0.7 2.0 2268.293034115453 306.4589640966426 81.02510404317776\n"
     ]
    },
    {
     "name": "stderr",
     "output_type": "stream",
     "text": [
      "\r",
      "14it [00:24,  1.74s/it]"
     ]
    },
    {
     "name": "stdout",
     "output_type": "stream",
     "text": [
      "[0.02 0.7  2.  ]\n",
      "0.02 0.7 2.0 1144.1967097863371 121.59214896911837 58.532323821733485\n"
     ]
    },
    {
     "name": "stderr",
     "output_type": "stream",
     "text": [
      "\r",
      "15it [00:25,  1.71s/it]"
     ]
    },
    {
     "name": "stdout",
     "output_type": "stream",
     "text": [
      "[0.02 0.7  2.  ]\n",
      "0.02 0.7 2.0 540.8386201000337 55.442182779008675 40.33560540982159\n"
     ]
    },
    {
     "name": "stderr",
     "output_type": "stream",
     "text": [
      "\r",
      "16it [00:26,  1.67s/it]"
     ]
    },
    {
     "name": "stdout",
     "output_type": "stream",
     "text": [
      "[0.02 0.7  2.  ]\n",
      "0.02 0.7 2.0 265.7567658856162 17.908312941263627 28.942001311111547\n"
     ]
    },
    {
     "name": "stderr",
     "output_type": "stream",
     "text": [
      "18it [00:28,  1.58s/it]"
     ]
    },
    {
     "name": "stdout",
     "output_type": "stream",
     "text": [
      "[0.02 0.7  2.  ]\n",
      "0.02 0.7 2.0 137.0976820954972 3.075003946054525 21.564267484433834\n"
     ]
    },
    {
     "name": "stderr",
     "output_type": "stream",
     "text": [
      "\r",
      "19it [00:29,  1.53s/it]"
     ]
    },
    {
     "name": "stdout",
     "output_type": "stream",
     "text": [
      "[0.02 0.7  2.  ]\n",
      "0.02 0.7 2.0 59.15302745632664 3.4099558993493075 13.751886328037129\n"
     ]
    },
    {
     "name": "stderr",
     "output_type": "stream",
     "text": [
      "\r",
      "20it [00:29,  1.49s/it]"
     ]
    },
    {
     "name": "stdout",
     "output_type": "stream",
     "text": [
      "[0.02 0.7  2.  ]\n",
      "0.02 0.7 2.0 19.704735376541805 4.071315729874177 7.276212163848361\n"
     ]
    },
    {
     "name": "stderr",
     "output_type": "stream",
     "text": [
      "\n"
     ]
    }
   ],
   "source": [
    "rs_simple = calc_relative_sensitivity(gammas, protons, bin_edges, method='simple', alpha=0.2)\n",
    "# rs_exact = calc_relative_sensitivity(gammas, protons, bin_edges, method='exact', alpha=0.2)\n",
    "\n",
    "s = gammas.query('num_triggered_telescopes >= 5')\n",
    "b = protons.query('num_triggered_telescopes >= 5')\n",
    "rs_mult = calc_relative_sensitivity(s, b, bin_edges, method='simple', alpha=0.2)"
   ]
  },
  {
   "cell_type": "code",
   "execution_count": 32,
   "metadata": {
    "scrolled": false
   },
   "outputs": [
    {
     "data": {
      "text/plain": [
       "<matplotlib.legend.Legend at 0x7f1e64f36f60>"
      ]
     },
     "execution_count": 32,
     "metadata": {},
     "output_type": "execute_result"
    },
    {
     "data": {
      "image/png": "[encoded data removed]",
      "text/plain": [
       "<Figure size 720x576 with 1 Axes>"
      ]
     },
     "metadata": {},
     "output_type": "display_data"
    }
   ],
   "source": [
    "plt.figure(figsize=(10, 8))\n",
    "\n",
    "# plot_sensitivity(rs_smooth, crab, bin_edges, bin_center, color='blue')\n",
    "\n",
    "plot_sensitivity(rs_simple, crab, bin_edges, bin_center, color='crimson', label='0.2')\n",
    "plot_sensitivity(rs_mult, crab, bin_edges, bin_center, color='green', label='mult 0.2')\n",
    "# plot_sensitivity(rs_exact, crab, bin_edges, bin_center, color='blue', label='exact 0.2')\n",
    "\n",
    "# plot_sensitivity(rs_interpolate, crab, bin_edges, bin_center, color='blue', label='interpolate')\n",
    "# plot_sensitivity(rs_exact, crab, bin_edges, bin_center, color='green', label='exact')\n",
    "plt.legend()\n",
    "\n",
    "# plot_sensitivity(rs_simple_02, crab, bin_edges, bin_center, color='blue')\n",
    "\n",
    "\n",
    "# plot_sensitivity(rs_smooth_02, crab, bin_edges, bin_center, color='navy')"
   ]
  },
  {
   "cell_type": "code",
   "execution_count": 8,
   "metadata": {},
   "outputs": [
    {
     "data": {
      "text/plain": [
       "Text(0.5,0,'Energy / TeV')"
      ]
     },
     "execution_count": 8,
     "metadata": {},
     "output_type": "execute_result"
    },
    {
     "data": {
      "image/png": "[encoded data removed]",
      "text/plain": [
       "<Figure size 864x432 with 2 Axes>"
      ]
     },
     "metadata": {},
     "output_type": "display_data"
    }
   ],
   "source": [
    "f, (ax1, ax2) = plt.subplots(1, 2, figsize=(12, 6))\n",
    "ax1.hist(protons.mc_energy, bins=bin_edges, histtype='step', lw=2)\n",
    "ax1.hist(protons.gamma_energy_prediction_mean, bins=bin_edges, histtype='step', lw=2)\n",
    "ax1.set_yscale('log')\n",
    "ax1.set_xscale('log')\n",
    "ax1.set_title('Protons')\n",
    "ax1.set_xlabel('Energy / TeV')\n",
    "\n",
    "ax2.hist(gammas.mc_energy, bins=bin_edges, histtype='step', lw=2)\n",
    "ax2.hist(gammas.gamma_energy_prediction_mean, bins=bin_edges, histtype='step', lw=2)\n",
    "ax2.set_yscale('log')\n",
    "ax2.set_xscale('log')\n",
    "ax2.set_title('Gammas')\n",
    "ax2.set_xlabel('Energy / TeV')"
   ]
  },
  {
   "cell_type": "code",
   "execution_count": null,
   "metadata": {},
   "outputs": [],
   "source": []
  }
 ],
 "metadata": {
  "kernelspec": {
   "display_name": "Python 3",
   "language": "python",
   "name": "python3"
  },
  "language_info": {
   "codemirror_mode": {
    "name": "ipython",
    "version": 3
   },
   "file_extension": ".py",
   "mimetype": "text/x-python",
   "name": "python",
   "nbconvert_exporter": "python",
   "pygments_lexer": "ipython3",
   "version": "3.6.5"
  }
 },
 "nbformat": 4,
 "nbformat_minor": 2
}
